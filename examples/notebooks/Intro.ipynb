{
 "cells": [
  {
   "cell_type": "code",
   "execution_count": 1,
   "metadata": {},
   "outputs": [],
   "source": [
    "import sys\n",
    "# the mock-0.3.1 dir contains testcase.py, testutils.py & mock.py\n",
    "sys.path.append('/home/luca/GitRepositories/Brancher')\n",
    "\n",
    "import chainer\n",
    "import chainer.functions as F\n",
    "import matplotlib.pyplot as plt\n",
    "import numpy as np\n",
    "\n",
    "from brancher.distributions import NormalDistribution, LogNormalDistribution\n",
    "from brancher.variables import DeterministicVariable, RandomVariable, ProbabilisticModel\n",
    "from brancher.standard_variables import NormalVariable, LogNormalVariable\n",
    "from brancher import inference\n",
    "import brancher.functions as BF"
   ]
  },
  {
   "cell_type": "code",
   "execution_count": 2,
   "metadata": {},
   "outputs": [
    {
     "data": {
      "text/html": [
       "<div>\n",
       "<style scoped>\n",
       "    .dataframe tbody tr th:only-of-type {\n",
       "        vertical-align: middle;\n",
       "    }\n",
       "\n",
       "    .dataframe tbody tr th {\n",
       "        vertical-align: top;\n",
       "    }\n",
       "\n",
       "    .dataframe thead th {\n",
       "        text-align: right;\n",
       "    }\n",
       "</style>\n",
       "<table border=\"1\" class=\"dataframe\">\n",
       "  <thead>\n",
       "    <tr style=\"text-align: right;\">\n",
       "      <th></th>\n",
       "      <th>nu_sigma</th>\n",
       "      <th>nu_mu</th>\n",
       "      <th>nu</th>\n",
       "      <th>mu_mean</th>\n",
       "      <th>mu_var</th>\n",
       "      <th>mu</th>\n",
       "      <th>x</th>\n",
       "    </tr>\n",
       "  </thead>\n",
       "  <tbody>\n",
       "    <tr>\n",
       "      <th>Distribution</th>\n",
       "      <td>Deterministic</td>\n",
       "      <td>Deterministic</td>\n",
       "      <td>Log Normal</td>\n",
       "      <td>Deterministic</td>\n",
       "      <td>Deterministic</td>\n",
       "      <td>Normal</td>\n",
       "      <td>Normal</td>\n",
       "    </tr>\n",
       "    <tr>\n",
       "      <th>Parents</th>\n",
       "      <td>()</td>\n",
       "      <td>()</td>\n",
       "      <td>{nu_sigma, nu_mu}</td>\n",
       "      <td>()</td>\n",
       "      <td>()</td>\n",
       "      <td>{mu_mean, mu_var}</td>\n",
       "      <td>{nu, mu}</td>\n",
       "    </tr>\n",
       "    <tr>\n",
       "      <th>Observed</th>\n",
       "      <td>False</td>\n",
       "      <td>False</td>\n",
       "      <td>False</td>\n",
       "      <td>False</td>\n",
       "      <td>False</td>\n",
       "      <td>False</td>\n",
       "      <td>False</td>\n",
       "    </tr>\n",
       "  </tbody>\n",
       "</table>\n",
       "</div>"
      ],
      "text/plain": [
       "                   nu_sigma          nu_mu                 nu        mu_mean  \\\n",
       "Distribution  Deterministic  Deterministic         Log Normal  Deterministic   \n",
       "Parents                  ()             ()  {nu_sigma, nu_mu}             ()   \n",
       "Observed              False          False              False          False   \n",
       "\n",
       "                     mu_var                 mu         x  \n",
       "Distribution  Deterministic             Normal    Normal  \n",
       "Parents                  ()  {mu_mean, mu_var}  {nu, mu}  \n",
       "Observed              False              False     False  "
      ]
     },
     "execution_count": 2,
     "metadata": {},
     "output_type": "execute_result"
    }
   ],
   "source": [
    "# Real model\n",
    "mu_real = 1.\n",
    "nu_real = 1.\n",
    "\n",
    "# Probabilistic model\n",
    "mu = NormalVariable(0., 2., \"mu\")\n",
    "nu = LogNormalVariable(0., 1., \"nu\")\n",
    "x = NormalVariable(BF.sin(mu), nu, \"x\") #TODO: Fix unary operator -\n",
    "model = ProbabilisticModel([x]) #FIx Repetitions in summary\n",
    "\n",
    "model.model_summary"
   ]
  },
  {
   "cell_type": "code",
   "execution_count": 3,
   "metadata": {},
   "outputs": [
    {
     "data": {
      "text/html": [
       "<div>\n",
       "<style scoped>\n",
       "    .dataframe tbody tr th:only-of-type {\n",
       "        vertical-align: middle;\n",
       "    }\n",
       "\n",
       "    .dataframe tbody tr th {\n",
       "        vertical-align: top;\n",
       "    }\n",
       "\n",
       "    .dataframe thead th {\n",
       "        text-align: right;\n",
       "    }\n",
       "</style>\n",
       "<table border=\"1\" class=\"dataframe\">\n",
       "  <thead>\n",
       "    <tr style=\"text-align: right;\">\n",
       "      <th></th>\n",
       "      <th>nu_sigma</th>\n",
       "      <th>nu_mu</th>\n",
       "      <th>nu</th>\n",
       "      <th>mu_mean</th>\n",
       "      <th>mu_var</th>\n",
       "      <th>mu</th>\n",
       "      <th>x</th>\n",
       "    </tr>\n",
       "  </thead>\n",
       "  <tbody>\n",
       "    <tr>\n",
       "      <th>0</th>\n",
       "      <td>0.541325</td>\n",
       "      <td>0.0</td>\n",
       "      <td>1.505793</td>\n",
       "      <td>0.0</td>\n",
       "      <td>1.854587</td>\n",
       "      <td>-0.980744</td>\n",
       "      <td>-2.085989</td>\n",
       "    </tr>\n",
       "    <tr>\n",
       "      <th>1</th>\n",
       "      <td>0.541325</td>\n",
       "      <td>0.0</td>\n",
       "      <td>1.074711</td>\n",
       "      <td>0.0</td>\n",
       "      <td>1.854587</td>\n",
       "      <td>0.790616</td>\n",
       "      <td>2.966426</td>\n",
       "    </tr>\n",
       "    <tr>\n",
       "      <th>2</th>\n",
       "      <td>0.541325</td>\n",
       "      <td>0.0</td>\n",
       "      <td>1.116943</td>\n",
       "      <td>0.0</td>\n",
       "      <td>1.854587</td>\n",
       "      <td>-0.257995</td>\n",
       "      <td>-0.393685</td>\n",
       "    </tr>\n",
       "    <tr>\n",
       "      <th>3</th>\n",
       "      <td>0.541325</td>\n",
       "      <td>0.0</td>\n",
       "      <td>0.574162</td>\n",
       "      <td>0.0</td>\n",
       "      <td>1.854587</td>\n",
       "      <td>0.037637</td>\n",
       "      <td>0.072135</td>\n",
       "    </tr>\n",
       "    <tr>\n",
       "      <th>4</th>\n",
       "      <td>0.541325</td>\n",
       "      <td>0.0</td>\n",
       "      <td>4.567481</td>\n",
       "      <td>0.0</td>\n",
       "      <td>1.854587</td>\n",
       "      <td>-1.017815</td>\n",
       "      <td>-0.517070</td>\n",
       "    </tr>\n",
       "  </tbody>\n",
       "</table>\n",
       "</div>"
      ],
      "text/plain": [
       "   nu_sigma  nu_mu        nu  mu_mean    mu_var        mu         x\n",
       "0  0.541325    0.0  1.505793      0.0  1.854587 -0.980744 -2.085989\n",
       "1  0.541325    0.0  1.074711      0.0  1.854587  0.790616  2.966426\n",
       "2  0.541325    0.0  1.116943      0.0  1.854587 -0.257995 -0.393685\n",
       "3  0.541325    0.0  0.574162      0.0  1.854587  0.037637  0.072135\n",
       "4  0.541325    0.0  4.567481      0.0  1.854587 -1.017815 -0.517070"
      ]
     },
     "execution_count": 3,
     "metadata": {},
     "output_type": "execute_result"
    }
   ],
   "source": [
    "# Print samples\n",
    "sample = model.get_sample(5)\n",
    "sample"
   ]
  },
  {
   "cell_type": "code",
   "execution_count": 4,
   "metadata": {},
   "outputs": [
    {
     "data": {
      "text/html": [
       "<div>\n",
       "<style scoped>\n",
       "    .dataframe tbody tr th:only-of-type {\n",
       "        vertical-align: middle;\n",
       "    }\n",
       "\n",
       "    .dataframe tbody tr th {\n",
       "        vertical-align: top;\n",
       "    }\n",
       "\n",
       "    .dataframe thead th {\n",
       "        text-align: right;\n",
       "    }\n",
       "</style>\n",
       "<table border=\"1\" class=\"dataframe\">\n",
       "  <thead>\n",
       "    <tr style=\"text-align: right;\">\n",
       "      <th></th>\n",
       "      <th>x</th>\n",
       "    </tr>\n",
       "  </thead>\n",
       "  <tbody>\n",
       "    <tr>\n",
       "      <th>0</th>\n",
       "      <td>-0.530550</td>\n",
       "    </tr>\n",
       "    <tr>\n",
       "      <th>1</th>\n",
       "      <td>0.117771</td>\n",
       "    </tr>\n",
       "    <tr>\n",
       "      <th>2</th>\n",
       "      <td>-0.175579</td>\n",
       "    </tr>\n",
       "    <tr>\n",
       "      <th>3</th>\n",
       "      <td>1.959392</td>\n",
       "    </tr>\n",
       "    <tr>\n",
       "      <th>4</th>\n",
       "      <td>-0.770996</td>\n",
       "    </tr>\n",
       "  </tbody>\n",
       "</table>\n",
       "</div>"
      ],
      "text/plain": [
       "          x\n",
       "0 -0.530550\n",
       "1  0.117771\n",
       "2 -0.175579\n",
       "3  1.959392\n",
       "4 -0.770996"
      ]
     },
     "execution_count": 4,
     "metadata": {},
     "output_type": "execute_result"
    }
   ],
   "source": [
    "# Print samples from single variable\n",
    "x_sample = x.get_sample(5)\n",
    "x_sample"
   ]
  },
  {
   "cell_type": "code",
   "execution_count": 5,
   "metadata": {},
   "outputs": [
    {
     "data": {
      "text/html": [
       "<div>\n",
       "<style scoped>\n",
       "    .dataframe tbody tr th:only-of-type {\n",
       "        vertical-align: middle;\n",
       "    }\n",
       "\n",
       "    .dataframe tbody tr th {\n",
       "        vertical-align: top;\n",
       "    }\n",
       "\n",
       "    .dataframe thead th {\n",
       "        text-align: right;\n",
       "    }\n",
       "</style>\n",
       "<table border=\"1\" class=\"dataframe\">\n",
       "  <thead>\n",
       "    <tr style=\"text-align: right;\">\n",
       "      <th></th>\n",
       "      <th>nu_sigma</th>\n",
       "      <th>nu_mu</th>\n",
       "      <th>nu</th>\n",
       "      <th>mu</th>\n",
       "      <th>x</th>\n",
       "    </tr>\n",
       "  </thead>\n",
       "  <tbody>\n",
       "    <tr>\n",
       "      <th>0</th>\n",
       "      <td>0.541325</td>\n",
       "      <td>0.0</td>\n",
       "      <td>5.104825</td>\n",
       "      <td>100.0</td>\n",
       "      <td>-0.804390</td>\n",
       "    </tr>\n",
       "    <tr>\n",
       "      <th>1</th>\n",
       "      <td>0.541325</td>\n",
       "      <td>0.0</td>\n",
       "      <td>0.738064</td>\n",
       "      <td>100.0</td>\n",
       "      <td>-0.394259</td>\n",
       "    </tr>\n",
       "    <tr>\n",
       "      <th>2</th>\n",
       "      <td>0.541325</td>\n",
       "      <td>0.0</td>\n",
       "      <td>2.733422</td>\n",
       "      <td>100.0</td>\n",
       "      <td>-0.911455</td>\n",
       "    </tr>\n",
       "    <tr>\n",
       "      <th>3</th>\n",
       "      <td>0.541325</td>\n",
       "      <td>0.0</td>\n",
       "      <td>0.275191</td>\n",
       "      <td>100.0</td>\n",
       "      <td>0.021307</td>\n",
       "    </tr>\n",
       "    <tr>\n",
       "      <th>4</th>\n",
       "      <td>0.541325</td>\n",
       "      <td>0.0</td>\n",
       "      <td>0.740902</td>\n",
       "      <td>100.0</td>\n",
       "      <td>-0.055203</td>\n",
       "    </tr>\n",
       "  </tbody>\n",
       "</table>\n",
       "</div>"
      ],
      "text/plain": [
       "   nu_sigma  nu_mu        nu     mu         x\n",
       "0  0.541325    0.0  5.104825  100.0 -0.804390\n",
       "1  0.541325    0.0  0.738064  100.0 -0.394259\n",
       "2  0.541325    0.0  2.733422  100.0 -0.911455\n",
       "3  0.541325    0.0  0.275191  100.0  0.021307\n",
       "4  0.541325    0.0  0.740902  100.0 -0.055203"
      ]
     },
     "execution_count": 5,
     "metadata": {},
     "output_type": "execute_result"
    }
   ],
   "source": [
    "# Print samples conditional on an input\n",
    "in_sample = model.get_sample(5, input_values={mu: 100.})\n",
    "in_sample"
   ]
  },
  {
   "cell_type": "code",
   "execution_count": 6,
   "metadata": {},
   "outputs": [
    {
     "data": {
      "text/html": [
       "<div>\n",
       "<style scoped>\n",
       "    .dataframe tbody tr th:only-of-type {\n",
       "        vertical-align: middle;\n",
       "    }\n",
       "\n",
       "    .dataframe tbody tr th {\n",
       "        vertical-align: top;\n",
       "    }\n",
       "\n",
       "    .dataframe thead th {\n",
       "        text-align: right;\n",
       "    }\n",
       "</style>\n",
       "<table border=\"1\" class=\"dataframe\">\n",
       "  <thead>\n",
       "    <tr style=\"text-align: right;\">\n",
       "      <th></th>\n",
       "      <th>nu_sigma</th>\n",
       "      <th>nu_mu</th>\n",
       "      <th>nu</th>\n",
       "      <th>mu_mean</th>\n",
       "      <th>mu_var</th>\n",
       "      <th>mu</th>\n",
       "      <th>x</th>\n",
       "    </tr>\n",
       "  </thead>\n",
       "  <tbody>\n",
       "    <tr>\n",
       "      <th>Distribution</th>\n",
       "      <td>Deterministic</td>\n",
       "      <td>Deterministic</td>\n",
       "      <td>Log Normal</td>\n",
       "      <td>Deterministic</td>\n",
       "      <td>Deterministic</td>\n",
       "      <td>Normal</td>\n",
       "      <td>Normal</td>\n",
       "    </tr>\n",
       "    <tr>\n",
       "      <th>Parents</th>\n",
       "      <td>()</td>\n",
       "      <td>()</td>\n",
       "      <td>{nu_sigma, nu_mu}</td>\n",
       "      <td>()</td>\n",
       "      <td>()</td>\n",
       "      <td>{mu_mean, mu_var}</td>\n",
       "      <td>{nu, mu}</td>\n",
       "    </tr>\n",
       "    <tr>\n",
       "      <th>Observed</th>\n",
       "      <td>False</td>\n",
       "      <td>False</td>\n",
       "      <td>False</td>\n",
       "      <td>False</td>\n",
       "      <td>False</td>\n",
       "      <td>False</td>\n",
       "      <td>True</td>\n",
       "    </tr>\n",
       "  </tbody>\n",
       "</table>\n",
       "</div>"
      ],
      "text/plain": [
       "                   nu_sigma          nu_mu                 nu        mu_mean  \\\n",
       "Distribution  Deterministic  Deterministic         Log Normal  Deterministic   \n",
       "Parents                  ()             ()  {nu_sigma, nu_mu}             ()   \n",
       "Observed              False          False              False          False   \n",
       "\n",
       "                     mu_var                 mu         x  \n",
       "Distribution  Deterministic             Normal    Normal  \n",
       "Parents                  ()  {mu_mean, mu_var}  {nu, mu}  \n",
       "Observed              False              False      True  "
      ]
     },
     "execution_count": 6,
     "metadata": {},
     "output_type": "execute_result"
    }
   ],
   "source": [
    "# # Generate data\n",
    "data = model.get_sample(number_samples=10, input_values={mu: mu_real, nu: nu_real})\n",
    "\n",
    "# Observe data\n",
    "x.observe(data)\n",
    "model.model_summary"
   ]
  },
  {
   "cell_type": "code",
   "execution_count": 7,
   "metadata": {},
   "outputs": [
    {
     "name": "stderr",
     "output_type": "stream",
     "text": [
      "100%|██████████| 800/800 [00:14<00:00, 57.12it/s]\n"
     ]
    },
    {
     "data": {
      "text/plain": [
       "[<matplotlib.lines.Line2D at 0x7ffa484ec208>]"
      ]
     },
     "execution_count": 7,
     "metadata": {},
     "output_type": "execute_result"
    },
    {
     "data": {
      "image/png": "[encoded data removed]",
      "text/plain": [
       "<Figure size 432x288 with 1 Axes>"
      ]
     },
     "metadata": {
      "needs_background": "light"
     },
     "output_type": "display_data"
    }
   ],
   "source": [
    "# Variational model\n",
    "Qmu = NormalVariable(0., 1., \"mu\", learnable=True)\n",
    "Qnu = LogNormalVariable(0., 1., \"nu\", learnable=True)\n",
    "model.set_posterior_model(ProbabilisticModel([Qmu, Qnu]))\n",
    "\n",
    "# Inference\n",
    "inference.stochastic_variational_inference(model,\n",
    "                                           number_iterations=800,\n",
    "                                           number_samples=50,\n",
    "                                           optimizer=chainer.optimizers.Adam(0.05))\n",
    "loss_list = model.diagnostics[\"loss curve\"]\n",
    "plt.plot(loss_list)"
   ]
  },
  {
   "cell_type": "code",
   "execution_count": 8,
   "metadata": {},
   "outputs": [
    {
     "data": {
      "text/html": [
       "<div>\n",
       "<style scoped>\n",
       "    .dataframe tbody tr th:only-of-type {\n",
       "        vertical-align: middle;\n",
       "    }\n",
       "\n",
       "    .dataframe tbody tr th {\n",
       "        vertical-align: top;\n",
       "    }\n",
       "\n",
       "    .dataframe thead th {\n",
       "        text-align: right;\n",
       "    }\n",
       "</style>\n",
       "<table border=\"1\" class=\"dataframe\">\n",
       "  <thead>\n",
       "    <tr style=\"text-align: right;\">\n",
       "      <th></th>\n",
       "      <th>nu</th>\n",
       "      <th>mu</th>\n",
       "      <th>x</th>\n",
       "      <th>mu_mean</th>\n",
       "      <th>mu_var</th>\n",
       "      <th>nu_sigma</th>\n",
       "      <th>nu_mu</th>\n",
       "    </tr>\n",
       "  </thead>\n",
       "  <tbody>\n",
       "    <tr>\n",
       "      <th>count</th>\n",
       "      <td>1000.000000</td>\n",
       "      <td>1000.000000</td>\n",
       "      <td>1000.000000</td>\n",
       "      <td>1000.000000</td>\n",
       "      <td>1000.000000</td>\n",
       "      <td>1000.000000</td>\n",
       "      <td>1000.000000</td>\n",
       "    </tr>\n",
       "    <tr>\n",
       "      <th>mean</th>\n",
       "      <td>0.859434</td>\n",
       "      <td>1.416814</td>\n",
       "      <td>0.944775</td>\n",
       "      <td>1.414536</td>\n",
       "      <td>-1.643634</td>\n",
       "      <td>-0.642761</td>\n",
       "      <td>-0.223288</td>\n",
       "    </tr>\n",
       "    <tr>\n",
       "      <th>std</th>\n",
       "      <td>0.361819</td>\n",
       "      <td>0.428753</td>\n",
       "      <td>0.980809</td>\n",
       "      <td>0.000000</td>\n",
       "      <td>0.000000</td>\n",
       "      <td>0.000000</td>\n",
       "      <td>0.000000</td>\n",
       "    </tr>\n",
       "    <tr>\n",
       "      <th>min</th>\n",
       "      <td>0.236694</td>\n",
       "      <td>-0.035777</td>\n",
       "      <td>-3.185262</td>\n",
       "      <td>1.414536</td>\n",
       "      <td>-1.643634</td>\n",
       "      <td>-0.642761</td>\n",
       "      <td>-0.223288</td>\n",
       "    </tr>\n",
       "    <tr>\n",
       "      <th>25%</th>\n",
       "      <td>0.586984</td>\n",
       "      <td>1.124058</td>\n",
       "      <td>0.302945</td>\n",
       "      <td>1.414536</td>\n",
       "      <td>-1.643634</td>\n",
       "      <td>-0.642761</td>\n",
       "      <td>-0.223288</td>\n",
       "    </tr>\n",
       "    <tr>\n",
       "      <th>50%</th>\n",
       "      <td>0.795361</td>\n",
       "      <td>1.419382</td>\n",
       "      <td>0.916860</td>\n",
       "      <td>1.414536</td>\n",
       "      <td>-1.643634</td>\n",
       "      <td>-0.642761</td>\n",
       "      <td>-0.223288</td>\n",
       "    </tr>\n",
       "    <tr>\n",
       "      <th>75%</th>\n",
       "      <td>1.041246</td>\n",
       "      <td>1.708841</td>\n",
       "      <td>1.566547</td>\n",
       "      <td>1.414536</td>\n",
       "      <td>-1.643634</td>\n",
       "      <td>-0.642761</td>\n",
       "      <td>-0.223288</td>\n",
       "    </tr>\n",
       "    <tr>\n",
       "      <th>max</th>\n",
       "      <td>2.359881</td>\n",
       "      <td>2.592623</td>\n",
       "      <td>4.902062</td>\n",
       "      <td>1.414536</td>\n",
       "      <td>-1.643634</td>\n",
       "      <td>-0.642761</td>\n",
       "      <td>-0.223288</td>\n",
       "    </tr>\n",
       "  </tbody>\n",
       "</table>\n",
       "</div>"
      ],
      "text/plain": [
       "                nu           mu            x      mu_mean       mu_var  \\\n",
       "count  1000.000000  1000.000000  1000.000000  1000.000000  1000.000000   \n",
       "mean      0.859434     1.416814     0.944775     1.414536    -1.643634   \n",
       "std       0.361819     0.428753     0.980809     0.000000     0.000000   \n",
       "min       0.236694    -0.035777    -3.185262     1.414536    -1.643634   \n",
       "25%       0.586984     1.124058     0.302945     1.414536    -1.643634   \n",
       "50%       0.795361     1.419382     0.916860     1.414536    -1.643634   \n",
       "75%       1.041246     1.708841     1.566547     1.414536    -1.643634   \n",
       "max       2.359881     2.592623     4.902062     1.414536    -1.643634   \n",
       "\n",
       "          nu_sigma        nu_mu  \n",
       "count  1000.000000  1000.000000  \n",
       "mean     -0.642761    -0.223288  \n",
       "std       0.000000     0.000000  \n",
       "min      -0.642761    -0.223288  \n",
       "25%      -0.642761    -0.223288  \n",
       "50%      -0.642761    -0.223288  \n",
       "75%      -0.642761    -0.223288  \n",
       "max      -0.642761    -0.223288  "
      ]
     },
     "execution_count": 8,
     "metadata": {},
     "output_type": "execute_result"
    }
   ],
   "source": [
    "# print posterior sample\n",
    "post_sample = model.get_posterior_sample(1000)\n",
    "post_sample.describe()"
   ]
  },
  {
   "cell_type": "code",
   "execution_count": 9,
   "metadata": {},
   "outputs": [
    {
     "data": {
      "text/plain": [
       "(-5, 5)"
      ]
     },
     "execution_count": 9,
     "metadata": {},
     "output_type": "execute_result"
    },
    {
     "data": {
      "image/png": "[encoded data removed]",
      "text/plain": [
       "<Figure size 432x288 with 1 Axes>"
      ]
     },
     "metadata": {
      "needs_background": "light"
     },
     "output_type": "display_data"
    }
   ],
   "source": [
    "post_sample[\"mu\"].plot.hist(stacked=False, bins=40)\n",
    "plt.axvline(x=mu_real, c=\"k\", lw=2)\n",
    "plt.xlim(-5,5)"
   ]
  },
  {
   "cell_type": "code",
   "execution_count": 10,
   "metadata": {},
   "outputs": [
    {
     "data": {
      "text/plain": [
       "(0, 6)"
      ]
     },
     "execution_count": 10,
     "metadata": {},
     "output_type": "execute_result"
    },
    {
     "data": {
      "image/png": "[encoded data removed]",
      "text/plain": [
       "<Figure size 432x288 with 1 Axes>"
      ]
     },
     "metadata": {
      "needs_background": "light"
     },
     "output_type": "display_data"
    }
   ],
   "source": [
    "post_sample[\"nu\"].plot.hist(stacked=False, bins=40)\n",
    "plt.axvline(x=nu_real, c=\"k\", lw=2)\n",
    "plt.xlim(0,6)"
   ]
  },
  {
   "cell_type": "code",
   "execution_count": 11,
   "metadata": {},
   "outputs": [
    {
     "data": {
      "image/png": "[encoded data removed]",
      "text/plain": [
       "<Figure size 620.375x540 with 12 Axes>"
      ]
     },
     "metadata": {
      "needs_background": "light"
     },
     "output_type": "display_data"
    }
   ],
   "source": [
    "from brancher.visualizations import plot_posterior\n",
    "\n",
    "plot_posterior(model, variables=[\"mu\", \"nu\", \"x\"])"
   ]
  },
  {
   "cell_type": "code",
   "execution_count": null,
   "metadata": {},
   "outputs": [],
   "source": []
  }
 ],
 "metadata": {
  "kernelspec": {
   "display_name": "Python 3",
   "language": "python",
   "name": "python3"
  },
  "language_info": {
   "codemirror_mode": {
    "name": "ipython",
    "version": 3
   },
   "file_extension": ".py",
   "mimetype": "text/x-python",
   "name": "python",
   "nbconvert_exporter": "python",
   "pygments_lexer": "ipython3",
   "version": "3.7.0"
  }
 },
 "nbformat": 4,
 "nbformat_minor": 1
}
