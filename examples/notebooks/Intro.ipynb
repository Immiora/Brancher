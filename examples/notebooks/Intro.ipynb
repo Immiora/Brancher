{
 "cells": [
  {
   "cell_type": "code",
   "execution_count": 682,
   "metadata": {},
   "outputs": [],
   "source": [
    "import sys\n",
    "# the mock-0.3.1 dir contains testcase.py, testutils.py & mock.py\n",
    "sys.path.append('/home/luca/GitRepositories/Brancher')\n",
    "\n",
    "import chainer\n",
    "import chainer.functions as F\n",
    "import matplotlib.pyplot as plt\n",
    "import numpy as np\n",
    "\n",
    "from brancher.distributions import NormalDistribution, LogNormalDistribution\n",
    "from brancher.variables import DeterministicVariable, RandomVariable, ProbabilisticModel\n",
    "from brancher.standard_variables import NormalVariable, LogNormalVariable\n",
    "from brancher import inference\n",
    "import brancher.functions as BF"
   ]
  },
  {
   "cell_type": "code",
   "execution_count": 683,
   "metadata": {},
   "outputs": [
    {
     "data": {
      "text/html": [
       "<div>\n",
       "<style scoped>\n",
       "    .dataframe tbody tr th:only-of-type {\n",
       "        vertical-align: middle;\n",
       "    }\n",
       "\n",
       "    .dataframe tbody tr th {\n",
       "        vertical-align: top;\n",
       "    }\n",
       "\n",
       "    .dataframe thead th {\n",
       "        text-align: right;\n",
       "    }\n",
       "</style>\n",
       "<table border=\"1\" class=\"dataframe\">\n",
       "  <thead>\n",
       "    <tr style=\"text-align: right;\">\n",
       "      <th></th>\n",
       "      <th>mu_mean</th>\n",
       "      <th>mu_var</th>\n",
       "      <th>mu</th>\n",
       "      <th>nu_mu</th>\n",
       "      <th>nu_sigma</th>\n",
       "      <th>nu</th>\n",
       "      <th>x</th>\n",
       "    </tr>\n",
       "  </thead>\n",
       "  <tbody>\n",
       "    <tr>\n",
       "      <th>Distribution</th>\n",
       "      <td>Deterministic</td>\n",
       "      <td>Deterministic</td>\n",
       "      <td>Normal</td>\n",
       "      <td>Deterministic</td>\n",
       "      <td>Deterministic</td>\n",
       "      <td>Log Normal</td>\n",
       "      <td>Normal</td>\n",
       "    </tr>\n",
       "    <tr>\n",
       "      <th>Parents</th>\n",
       "      <td>()</td>\n",
       "      <td>()</td>\n",
       "      <td>{mu_mean, mu_var}</td>\n",
       "      <td>()</td>\n",
       "      <td>()</td>\n",
       "      <td>{nu_mu, nu_sigma}</td>\n",
       "      <td>{mu, nu}</td>\n",
       "    </tr>\n",
       "    <tr>\n",
       "      <th>Observed</th>\n",
       "      <td>False</td>\n",
       "      <td>False</td>\n",
       "      <td>False</td>\n",
       "      <td>False</td>\n",
       "      <td>False</td>\n",
       "      <td>False</td>\n",
       "      <td>False</td>\n",
       "    </tr>\n",
       "  </tbody>\n",
       "</table>\n",
       "</div>"
      ],
      "text/plain": [
       "                    mu_mean         mu_var                 mu          nu_mu  \\\n",
       "Distribution  Deterministic  Deterministic             Normal  Deterministic   \n",
       "Parents                  ()             ()  {mu_mean, mu_var}             ()   \n",
       "Observed              False          False              False          False   \n",
       "\n",
       "                   nu_sigma                 nu         x  \n",
       "Distribution  Deterministic         Log Normal    Normal  \n",
       "Parents                  ()  {nu_mu, nu_sigma}  {mu, nu}  \n",
       "Observed              False              False     False  "
      ]
     },
     "execution_count": 683,
     "metadata": {},
     "output_type": "execute_result"
    }
   ],
   "source": [
    "# Real model\n",
    "mu_real = 1.\n",
    "nu_real = 0.25\n",
    "x_real = NormalVariable(np.sin(mu_real), nu_real, \"x_real\")\n",
    "\n",
    "# Normal model\n",
    "mu = NormalVariable(0., 2., \"mu\")\n",
    "nu = LogNormalVariable(0., 1., \"nu\")\n",
    "x = NormalVariable(BF.sin(mu), nu, \"x\") #TODO: Fix unary operator -\n",
    "model = ProbabilisticModel([x]) #FIx Repetitions in summary\n",
    "\n",
    "model.model_summary"
   ]
  },
  {
   "cell_type": "code",
   "execution_count": 684,
   "metadata": {},
   "outputs": [
    {
     "data": {
      "text/html": [
       "<div>\n",
       "<style scoped>\n",
       "    .dataframe tbody tr th:only-of-type {\n",
       "        vertical-align: middle;\n",
       "    }\n",
       "\n",
       "    .dataframe tbody tr th {\n",
       "        vertical-align: top;\n",
       "    }\n",
       "\n",
       "    .dataframe thead th {\n",
       "        text-align: right;\n",
       "    }\n",
       "</style>\n",
       "<table border=\"1\" class=\"dataframe\">\n",
       "  <thead>\n",
       "    <tr style=\"text-align: right;\">\n",
       "      <th></th>\n",
       "      <th>mu_mean</th>\n",
       "      <th>mu_var</th>\n",
       "      <th>mu</th>\n",
       "      <th>nu_mu</th>\n",
       "      <th>nu_sigma</th>\n",
       "      <th>nu</th>\n",
       "      <th>x</th>\n",
       "    </tr>\n",
       "  </thead>\n",
       "  <tbody>\n",
       "    <tr>\n",
       "      <th>0</th>\n",
       "      <td>0.0</td>\n",
       "      <td>1.854587</td>\n",
       "      <td>-3.010782</td>\n",
       "      <td>0.0</td>\n",
       "      <td>0.541325</td>\n",
       "      <td>2.429522</td>\n",
       "      <td>0.247744</td>\n",
       "    </tr>\n",
       "    <tr>\n",
       "      <th>1</th>\n",
       "      <td>0.0</td>\n",
       "      <td>1.854587</td>\n",
       "      <td>-0.675549</td>\n",
       "      <td>0.0</td>\n",
       "      <td>0.541325</td>\n",
       "      <td>2.299551</td>\n",
       "      <td>0.758448</td>\n",
       "    </tr>\n",
       "    <tr>\n",
       "      <th>2</th>\n",
       "      <td>0.0</td>\n",
       "      <td>1.854587</td>\n",
       "      <td>0.726834</td>\n",
       "      <td>0.0</td>\n",
       "      <td>0.541325</td>\n",
       "      <td>1.664260</td>\n",
       "      <td>-2.786458</td>\n",
       "    </tr>\n",
       "    <tr>\n",
       "      <th>3</th>\n",
       "      <td>0.0</td>\n",
       "      <td>1.854587</td>\n",
       "      <td>-0.610958</td>\n",
       "      <td>0.0</td>\n",
       "      <td>0.541325</td>\n",
       "      <td>2.051259</td>\n",
       "      <td>0.412679</td>\n",
       "    </tr>\n",
       "    <tr>\n",
       "      <th>4</th>\n",
       "      <td>0.0</td>\n",
       "      <td>1.854587</td>\n",
       "      <td>-0.697556</td>\n",
       "      <td>0.0</td>\n",
       "      <td>0.541325</td>\n",
       "      <td>0.533047</td>\n",
       "      <td>-1.667276</td>\n",
       "    </tr>\n",
       "  </tbody>\n",
       "</table>\n",
       "</div>"
      ],
      "text/plain": [
       "   mu_mean    mu_var        mu  nu_mu  nu_sigma        nu         x\n",
       "0      0.0  1.854587 -3.010782    0.0  0.541325  2.429522  0.247744\n",
       "1      0.0  1.854587 -0.675549    0.0  0.541325  2.299551  0.758448\n",
       "2      0.0  1.854587  0.726834    0.0  0.541325  1.664260 -2.786458\n",
       "3      0.0  1.854587 -0.610958    0.0  0.541325  2.051259  0.412679\n",
       "4      0.0  1.854587 -0.697556    0.0  0.541325  0.533047 -1.667276"
      ]
     },
     "execution_count": 684,
     "metadata": {},
     "output_type": "execute_result"
    }
   ],
   "source": [
    "# Print samples\n",
    "sample = model.get_sample(5)\n",
    "sample"
   ]
  },
  {
   "cell_type": "code",
   "execution_count": 685,
   "metadata": {},
   "outputs": [
    {
     "data": {
      "text/html": [
       "<div>\n",
       "<style scoped>\n",
       "    .dataframe tbody tr th:only-of-type {\n",
       "        vertical-align: middle;\n",
       "    }\n",
       "\n",
       "    .dataframe tbody tr th {\n",
       "        vertical-align: top;\n",
       "    }\n",
       "\n",
       "    .dataframe thead th {\n",
       "        text-align: right;\n",
       "    }\n",
       "</style>\n",
       "<table border=\"1\" class=\"dataframe\">\n",
       "  <thead>\n",
       "    <tr style=\"text-align: right;\">\n",
       "      <th></th>\n",
       "      <th>x</th>\n",
       "    </tr>\n",
       "  </thead>\n",
       "  <tbody>\n",
       "    <tr>\n",
       "      <th>0</th>\n",
       "      <td>-0.638042</td>\n",
       "    </tr>\n",
       "    <tr>\n",
       "      <th>1</th>\n",
       "      <td>-0.180522</td>\n",
       "    </tr>\n",
       "    <tr>\n",
       "      <th>2</th>\n",
       "      <td>-1.345925</td>\n",
       "    </tr>\n",
       "    <tr>\n",
       "      <th>3</th>\n",
       "      <td>1.579101</td>\n",
       "    </tr>\n",
       "    <tr>\n",
       "      <th>4</th>\n",
       "      <td>-1.807556</td>\n",
       "    </tr>\n",
       "  </tbody>\n",
       "</table>\n",
       "</div>"
      ],
      "text/plain": [
       "          x\n",
       "0 -0.638042\n",
       "1 -0.180522\n",
       "2 -1.345925\n",
       "3  1.579101\n",
       "4 -1.807556"
      ]
     },
     "execution_count": 685,
     "metadata": {},
     "output_type": "execute_result"
    }
   ],
   "source": [
    "# Print samples from single variable\n",
    "x_sample = x.get_sample(5)\n",
    "x_sample"
   ]
  },
  {
   "cell_type": "code",
   "execution_count": 686,
   "metadata": {},
   "outputs": [
    {
     "data": {
      "text/html": [
       "<div>\n",
       "<style scoped>\n",
       "    .dataframe tbody tr th:only-of-type {\n",
       "        vertical-align: middle;\n",
       "    }\n",
       "\n",
       "    .dataframe tbody tr th {\n",
       "        vertical-align: top;\n",
       "    }\n",
       "\n",
       "    .dataframe thead th {\n",
       "        text-align: right;\n",
       "    }\n",
       "</style>\n",
       "<table border=\"1\" class=\"dataframe\">\n",
       "  <thead>\n",
       "    <tr style=\"text-align: right;\">\n",
       "      <th></th>\n",
       "      <th>mu</th>\n",
       "      <th>nu_mu</th>\n",
       "      <th>nu_sigma</th>\n",
       "      <th>nu</th>\n",
       "      <th>x</th>\n",
       "    </tr>\n",
       "  </thead>\n",
       "  <tbody>\n",
       "    <tr>\n",
       "      <th>0</th>\n",
       "      <td>100.0</td>\n",
       "      <td>0.0</td>\n",
       "      <td>0.541325</td>\n",
       "      <td>1.024124</td>\n",
       "      <td>-0.191132</td>\n",
       "    </tr>\n",
       "    <tr>\n",
       "      <th>1</th>\n",
       "      <td>100.0</td>\n",
       "      <td>0.0</td>\n",
       "      <td>0.541325</td>\n",
       "      <td>0.625593</td>\n",
       "      <td>-1.390329</td>\n",
       "    </tr>\n",
       "    <tr>\n",
       "      <th>2</th>\n",
       "      <td>100.0</td>\n",
       "      <td>0.0</td>\n",
       "      <td>0.541325</td>\n",
       "      <td>2.640614</td>\n",
       "      <td>0.310952</td>\n",
       "    </tr>\n",
       "    <tr>\n",
       "      <th>3</th>\n",
       "      <td>100.0</td>\n",
       "      <td>0.0</td>\n",
       "      <td>0.541325</td>\n",
       "      <td>1.580141</td>\n",
       "      <td>0.000643</td>\n",
       "    </tr>\n",
       "    <tr>\n",
       "      <th>4</th>\n",
       "      <td>100.0</td>\n",
       "      <td>0.0</td>\n",
       "      <td>0.541325</td>\n",
       "      <td>1.128575</td>\n",
       "      <td>-0.404725</td>\n",
       "    </tr>\n",
       "  </tbody>\n",
       "</table>\n",
       "</div>"
      ],
      "text/plain": [
       "      mu  nu_mu  nu_sigma        nu         x\n",
       "0  100.0    0.0  0.541325  1.024124 -0.191132\n",
       "1  100.0    0.0  0.541325  0.625593 -1.390329\n",
       "2  100.0    0.0  0.541325  2.640614  0.310952\n",
       "3  100.0    0.0  0.541325  1.580141  0.000643\n",
       "4  100.0    0.0  0.541325  1.128575 -0.404725"
      ]
     },
     "execution_count": 686,
     "metadata": {},
     "output_type": "execute_result"
    }
   ],
   "source": [
    "# Print samples conditional on an input\n",
    "in_sample = model.get_sample(5, input_values={mu: 100.})\n",
    "in_sample"
   ]
  },
  {
   "cell_type": "code",
   "execution_count": 687,
   "metadata": {},
   "outputs": [
    {
     "data": {
      "text/html": [
       "<div>\n",
       "<style scoped>\n",
       "    .dataframe tbody tr th:only-of-type {\n",
       "        vertical-align: middle;\n",
       "    }\n",
       "\n",
       "    .dataframe tbody tr th {\n",
       "        vertical-align: top;\n",
       "    }\n",
       "\n",
       "    .dataframe thead th {\n",
       "        text-align: right;\n",
       "    }\n",
       "</style>\n",
       "<table border=\"1\" class=\"dataframe\">\n",
       "  <thead>\n",
       "    <tr style=\"text-align: right;\">\n",
       "      <th></th>\n",
       "      <th>mu_mean</th>\n",
       "      <th>mu_var</th>\n",
       "      <th>mu</th>\n",
       "      <th>nu_mu</th>\n",
       "      <th>nu_sigma</th>\n",
       "      <th>nu</th>\n",
       "      <th>x</th>\n",
       "    </tr>\n",
       "  </thead>\n",
       "  <tbody>\n",
       "    <tr>\n",
       "      <th>Distribution</th>\n",
       "      <td>Deterministic</td>\n",
       "      <td>Deterministic</td>\n",
       "      <td>Normal</td>\n",
       "      <td>Deterministic</td>\n",
       "      <td>Deterministic</td>\n",
       "      <td>Log Normal</td>\n",
       "      <td>Normal</td>\n",
       "    </tr>\n",
       "    <tr>\n",
       "      <th>Parents</th>\n",
       "      <td>()</td>\n",
       "      <td>()</td>\n",
       "      <td>{mu_mean, mu_var}</td>\n",
       "      <td>()</td>\n",
       "      <td>()</td>\n",
       "      <td>{nu_mu, nu_sigma}</td>\n",
       "      <td>{mu, nu}</td>\n",
       "    </tr>\n",
       "    <tr>\n",
       "      <th>Observed</th>\n",
       "      <td>False</td>\n",
       "      <td>False</td>\n",
       "      <td>False</td>\n",
       "      <td>False</td>\n",
       "      <td>False</td>\n",
       "      <td>False</td>\n",
       "      <td>True</td>\n",
       "    </tr>\n",
       "  </tbody>\n",
       "</table>\n",
       "</div>"
      ],
      "text/plain": [
       "                    mu_mean         mu_var                 mu          nu_mu  \\\n",
       "Distribution  Deterministic  Deterministic             Normal  Deterministic   \n",
       "Parents                  ()             ()  {mu_mean, mu_var}             ()   \n",
       "Observed              False          False              False          False   \n",
       "\n",
       "                   nu_sigma                 nu         x  \n",
       "Distribution  Deterministic         Log Normal    Normal  \n",
       "Parents                  ()  {nu_mu, nu_sigma}  {mu, nu}  \n",
       "Observed              False              False      True  "
      ]
     },
     "execution_count": 687,
     "metadata": {},
     "output_type": "execute_result"
    }
   ],
   "source": [
    "# # Generate data\n",
    "data = x_real._get_sample(number_samples=10)\n",
    "\n",
    "# Observe data\n",
    "x.observe(data[x_real][:, 0, :].data)\n",
    "model.model_summary"
   ]
  },
  {
   "cell_type": "code",
   "execution_count": 688,
   "metadata": {},
   "outputs": [
    {
     "name": "stderr",
     "output_type": "stream",
     "text": [
      "100%|██████████| 800/800 [00:13<00:00, 60.10it/s]\n"
     ]
    },
    {
     "data": {
      "text/plain": [
       "[<matplotlib.lines.Line2D at 0x7fa2b890fb70>]"
      ]
     },
     "execution_count": 688,
     "metadata": {},
     "output_type": "execute_result"
    },
    {
     "data": {
      "image/png": "[encoded data removed]",
      "text/plain": [
       "<Figure size 432x288 with 1 Axes>"
      ]
     },
     "metadata": {
      "needs_background": "light"
     },
     "output_type": "display_data"
    }
   ],
   "source": [
    "# Variational model\n",
    "Qmu = NormalVariable(0., 1., \"mu\", learnable=True)\n",
    "Qnu = LogNormalVariable(0., 1., \"nu\", learnable=True)\n",
    "model.set_posterior_model(ProbabilisticModel([Qmu, Qnu]))\n",
    "\n",
    "# Inference\n",
    "inference.stochastic_variational_inference(model,\n",
    "                                           number_iterations=800,\n",
    "                                           number_samples=50,\n",
    "                                           optimizer=chainer.optimizers.Adam(0.05))\n",
    "loss_list = model.diagnostics[\"loss curve\"]\n",
    "plt.plot(loss_list)"
   ]
  },
  {
   "cell_type": "code",
   "execution_count": 689,
   "metadata": {},
   "outputs": [
    {
     "data": {
      "text/html": [
       "<div>\n",
       "<style scoped>\n",
       "    .dataframe tbody tr th:only-of-type {\n",
       "        vertical-align: middle;\n",
       "    }\n",
       "\n",
       "    .dataframe tbody tr th {\n",
       "        vertical-align: top;\n",
       "    }\n",
       "\n",
       "    .dataframe thead th {\n",
       "        text-align: right;\n",
       "    }\n",
       "</style>\n",
       "<table border=\"1\" class=\"dataframe\">\n",
       "  <thead>\n",
       "    <tr style=\"text-align: right;\">\n",
       "      <th></th>\n",
       "      <th>mu</th>\n",
       "      <th>nu</th>\n",
       "      <th>x</th>\n",
       "      <th>mu_var</th>\n",
       "      <th>mu_mean</th>\n",
       "      <th>nu_sigma</th>\n",
       "      <th>nu_mu</th>\n",
       "    </tr>\n",
       "  </thead>\n",
       "  <tbody>\n",
       "    <tr>\n",
       "      <th>count</th>\n",
       "      <td>1000.000000</td>\n",
       "      <td>1000.000000</td>\n",
       "      <td>1000.000000</td>\n",
       "      <td>1000.000000</td>\n",
       "      <td>1000.000000</td>\n",
       "      <td>1000.000000</td>\n",
       "      <td>1000.000000</td>\n",
       "    </tr>\n",
       "    <tr>\n",
       "      <th>mean</th>\n",
       "      <td>1.346926</td>\n",
       "      <td>0.236072</td>\n",
       "      <td>0.887436</td>\n",
       "      <td>-1.615731</td>\n",
       "      <td>1.344209</td>\n",
       "      <td>-0.531787</td>\n",
       "      <td>-1.533271</td>\n",
       "    </tr>\n",
       "    <tr>\n",
       "      <th>std</th>\n",
       "      <td>0.427111</td>\n",
       "      <td>0.115217</td>\n",
       "      <td>0.502409</td>\n",
       "      <td>0.000000</td>\n",
       "      <td>0.000000</td>\n",
       "      <td>0.000000</td>\n",
       "      <td>0.000000</td>\n",
       "    </tr>\n",
       "    <tr>\n",
       "      <th>min</th>\n",
       "      <td>-0.308945</td>\n",
       "      <td>0.055962</td>\n",
       "      <td>-1.861021</td>\n",
       "      <td>-1.615731</td>\n",
       "      <td>1.344209</td>\n",
       "      <td>-0.531787</td>\n",
       "      <td>-1.533271</td>\n",
       "    </tr>\n",
       "    <tr>\n",
       "      <th>25%</th>\n",
       "      <td>1.072476</td>\n",
       "      <td>0.156940</td>\n",
       "      <td>0.587573</td>\n",
       "      <td>-1.615731</td>\n",
       "      <td>1.344209</td>\n",
       "      <td>-0.531787</td>\n",
       "      <td>-1.533271</td>\n",
       "    </tr>\n",
       "    <tr>\n",
       "      <th>50%</th>\n",
       "      <td>1.339828</td>\n",
       "      <td>0.210435</td>\n",
       "      <td>0.896537</td>\n",
       "      <td>-1.615731</td>\n",
       "      <td>1.344209</td>\n",
       "      <td>-0.531787</td>\n",
       "      <td>-1.533271</td>\n",
       "    </tr>\n",
       "    <tr>\n",
       "      <th>75%</th>\n",
       "      <td>1.637469</td>\n",
       "      <td>0.287341</td>\n",
       "      <td>1.215576</td>\n",
       "      <td>-1.615731</td>\n",
       "      <td>1.344209</td>\n",
       "      <td>-0.531787</td>\n",
       "      <td>-1.533271</td>\n",
       "    </tr>\n",
       "    <tr>\n",
       "      <th>max</th>\n",
       "      <td>2.635448</td>\n",
       "      <td>0.842861</td>\n",
       "      <td>2.724580</td>\n",
       "      <td>-1.615731</td>\n",
       "      <td>1.344209</td>\n",
       "      <td>-0.531787</td>\n",
       "      <td>-1.533271</td>\n",
       "    </tr>\n",
       "  </tbody>\n",
       "</table>\n",
       "</div>"
      ],
      "text/plain": [
       "                mu           nu            x       mu_var      mu_mean  \\\n",
       "count  1000.000000  1000.000000  1000.000000  1000.000000  1000.000000   \n",
       "mean      1.346926     0.236072     0.887436    -1.615731     1.344209   \n",
       "std       0.427111     0.115217     0.502409     0.000000     0.000000   \n",
       "min      -0.308945     0.055962    -1.861021    -1.615731     1.344209   \n",
       "25%       1.072476     0.156940     0.587573    -1.615731     1.344209   \n",
       "50%       1.339828     0.210435     0.896537    -1.615731     1.344209   \n",
       "75%       1.637469     0.287341     1.215576    -1.615731     1.344209   \n",
       "max       2.635448     0.842861     2.724580    -1.615731     1.344209   \n",
       "\n",
       "          nu_sigma        nu_mu  \n",
       "count  1000.000000  1000.000000  \n",
       "mean     -0.531787    -1.533271  \n",
       "std       0.000000     0.000000  \n",
       "min      -0.531787    -1.533271  \n",
       "25%      -0.531787    -1.533271  \n",
       "50%      -0.531787    -1.533271  \n",
       "75%      -0.531787    -1.533271  \n",
       "max      -0.531787    -1.533271  "
      ]
     },
     "execution_count": 689,
     "metadata": {},
     "output_type": "execute_result"
    }
   ],
   "source": [
    "# print posterior sample\n",
    "post_sample = model.get_posterior_sample(1000)\n",
    "post_sample.describe()"
   ]
  },
  {
   "cell_type": "code",
   "execution_count": 690,
   "metadata": {},
   "outputs": [],
   "source": [
    "#import seaborn as sns\n",
    "#sns.distplot(post_samples)\n",
    "sample = model.get_sample(1000)"
   ]
  },
  {
   "cell_type": "code",
   "execution_count": 691,
   "metadata": {},
   "outputs": [],
   "source": [
    "sample[\"mode\"] = \"Prior\"\n",
    "post_sample[\"mode\"] = \"Posterior\"\n",
    "subsample = sample[[\"mu\", \"nu\", \"x\", \"mode\"]]\n",
    "post_subsample = post_sample[[\"mu\", \"nu\", \"x\", \"mode\"]]\n",
    "joint_subsample = subsample.append(post_subsample)"
   ]
  },
  {
   "cell_type": "code",
   "execution_count": 692,
   "metadata": {},
   "outputs": [
    {
     "name": "stderr",
     "output_type": "stream",
     "text": [
      "/home/luca/anaconda3/lib/python3.7/site-packages/scipy/stats/stats.py:1713: FutureWarning: Using a non-tuple sequence for multidimensional indexing is deprecated; use `arr[tuple(seq)]` instead of `arr[seq]`. In the future this will be interpreted as an array index, `arr[np.array(seq)]`, which will result either in an error or a different result.\n",
      "  return np.add.reduce(sorted[indexer] * weights, axis=axis) / sumval\n"
     ]
    },
    {
     "data": {
      "text/plain": [
       "<seaborn.axisgrid.PairGrid at 0x7fa2b89b1b70>"
      ]
     },
     "execution_count": 692,
     "metadata": {},
     "output_type": "execute_result"
    },
    {
     "data": {
      "image/png": "[encoded data removed]",
      "text/plain": [
       "<Figure size 540x540 with 12 Axes>"
      ]
     },
     "metadata": {
      "needs_background": "light"
     },
     "output_type": "display_data"
    }
   ],
   "source": [
    "import seaborn as sns\n",
    "\n",
    "g = sns.PairGrid(joint_subsample, hue=\"mode\")\n",
    "g.map_upper(plt.scatter, alpha = 0.1)\n",
    "g.map_lower(sns.kdeplot)\n",
    "g.map_diag(sns.kdeplot, lw=3, shade=True)"
   ]
  },
  {
   "cell_type": "code",
   "execution_count": 693,
   "metadata": {},
   "outputs": [
    {
     "data": {
      "text/plain": [
       "(-5, 5)"
      ]
     },
     "execution_count": 693,
     "metadata": {},
     "output_type": "execute_result"
    },
    {
     "data": {
      "image/png": "[encoded data removed]",
      "text/plain": [
       "<Figure size 432x288 with 1 Axes>"
      ]
     },
     "metadata": {
      "needs_background": "light"
     },
     "output_type": "display_data"
    }
   ],
   "source": [
    "post_sample[\"mu\"].plot.hist(stacked=False, bins=40)\n",
    "plt.axvline(x=mu_real, c=\"k\", lw=2)\n",
    "plt.xlim(-5,5)"
   ]
  },
  {
   "cell_type": "code",
   "execution_count": 694,
   "metadata": {},
   "outputs": [
    {
     "data": {
      "text/plain": [
       "(0, 6)"
      ]
     },
     "execution_count": 694,
     "metadata": {},
     "output_type": "execute_result"
    },
    {
     "data": {
      "image/png": "[encoded data removed]",
      "text/plain": [
       "<Figure size 432x288 with 1 Axes>"
      ]
     },
     "metadata": {
      "needs_background": "light"
     },
     "output_type": "display_data"
    }
   ],
   "source": [
    "post_sample[\"nu\"].plot.hist(stacked=False, bins=40)\n",
    "plt.axvline(x=nu_real, c=\"k\", lw=2)\n",
    "plt.xlim(0,6)"
   ]
  },
  {
   "cell_type": "code",
   "execution_count": null,
   "metadata": {},
   "outputs": [],
   "source": []
  }
 ],
 "metadata": {
  "kernelspec": {
   "display_name": "Python 3",
   "language": "python",
   "name": "python3"
  },
  "language_info": {
   "codemirror_mode": {
    "name": "ipython",
    "version": 3
   },
   "file_extension": ".py",
   "mimetype": "text/x-python",
   "name": "python",
   "nbconvert_exporter": "python",
   "pygments_lexer": "ipython3",
   "version": "3.7.0"
  }
 },
 "nbformat": 4,
 "nbformat_minor": 1
}
