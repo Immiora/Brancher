{
 "cells": [
  {
   "cell_type": "code",
   "execution_count": 1,
   "metadata": {},
   "outputs": [],
   "source": [
    "import sys\n",
    "# the mock-0.3.1 dir contains testcase.py, testutils.py & mock.py\n",
    "sys.path.append('/home/luca/GitRepositories/Brancher')\n",
    "\n",
    "import chainer\n",
    "import chainer.functions as F\n",
    "import matplotlib.pyplot as plt\n",
    "import numpy as np\n",
    "\n",
    "from brancher.distributions import NormalDistribution, LogNormalDistribution\n",
    "from brancher.variables import DeterministicVariable, RandomVariable, ProbabilisticModel\n",
    "from brancher.standard_variables import NormalVariable, LogNormalVariable\n",
    "from brancher import inference\n",
    "import brancher.functions as BF"
   ]
  },
  {
   "cell_type": "code",
   "execution_count": 2,
   "metadata": {},
   "outputs": [
    {
     "data": {
      "text/html": [
       "<div>\n",
       "<style scoped>\n",
       "    .dataframe tbody tr th:only-of-type {\n",
       "        vertical-align: middle;\n",
       "    }\n",
       "\n",
       "    .dataframe tbody tr th {\n",
       "        vertical-align: top;\n",
       "    }\n",
       "\n",
       "    .dataframe thead th {\n",
       "        text-align: right;\n",
       "    }\n",
       "</style>\n",
       "<table border=\"1\" class=\"dataframe\">\n",
       "  <thead>\n",
       "    <tr style=\"text-align: right;\">\n",
       "      <th></th>\n",
       "      <th>mu_var</th>\n",
       "      <th>nu_mu</th>\n",
       "      <th>mu_mean</th>\n",
       "      <th>nu_sigma</th>\n",
       "      <th>x</th>\n",
       "      <th>mu</th>\n",
       "      <th>nu</th>\n",
       "    </tr>\n",
       "  </thead>\n",
       "  <tbody>\n",
       "    <tr>\n",
       "      <th>Distribution</th>\n",
       "      <td>Deterministic</td>\n",
       "      <td>Deterministic</td>\n",
       "      <td>Deterministic</td>\n",
       "      <td>Deterministic</td>\n",
       "      <td>Normal</td>\n",
       "      <td>Normal</td>\n",
       "      <td>Log Normal</td>\n",
       "    </tr>\n",
       "    <tr>\n",
       "      <th>Parents</th>\n",
       "      <td>()</td>\n",
       "      <td>()</td>\n",
       "      <td>()</td>\n",
       "      <td>()</td>\n",
       "      <td>{nu, mu}</td>\n",
       "      <td>{mu_var, mu_mean}</td>\n",
       "      <td>{nu_sigma, nu_mu}</td>\n",
       "    </tr>\n",
       "    <tr>\n",
       "      <th>Observed</th>\n",
       "      <td>False</td>\n",
       "      <td>False</td>\n",
       "      <td>False</td>\n",
       "      <td>False</td>\n",
       "      <td>False</td>\n",
       "      <td>False</td>\n",
       "      <td>False</td>\n",
       "    </tr>\n",
       "  </tbody>\n",
       "</table>\n",
       "</div>"
      ],
      "text/plain": [
       "                     mu_var          nu_mu        mu_mean       nu_sigma  \\\n",
       "Distribution  Deterministic  Deterministic  Deterministic  Deterministic   \n",
       "Parents                  ()             ()             ()             ()   \n",
       "Observed              False          False          False          False   \n",
       "\n",
       "                     x                 mu                 nu  \n",
       "Distribution    Normal             Normal         Log Normal  \n",
       "Parents       {nu, mu}  {mu_var, mu_mean}  {nu_sigma, nu_mu}  \n",
       "Observed         False              False              False  "
      ]
     },
     "execution_count": 2,
     "metadata": {},
     "output_type": "execute_result"
    }
   ],
   "source": [
    "# Real model\n",
    "mu_real = 1.\n",
    "nu_real = 1.\n",
    "\n",
    "# Probabilistic model\n",
    "mu = NormalVariable(0., 2., \"mu\")\n",
    "nu = LogNormalVariable(0., 1., \"nu\")\n",
    "x = NormalVariable(BF.sin(mu), nu, \"x\") #TODO: Fix unary operator -\n",
    "model = ProbabilisticModel([mu, nu, x]) \n",
    "\n",
    "model.model_summary"
   ]
  },
  {
   "cell_type": "code",
   "execution_count": 3,
   "metadata": {},
   "outputs": [
    {
     "data": {
      "text/html": [
       "<div>\n",
       "<style scoped>\n",
       "    .dataframe tbody tr th:only-of-type {\n",
       "        vertical-align: middle;\n",
       "    }\n",
       "\n",
       "    .dataframe tbody tr th {\n",
       "        vertical-align: top;\n",
       "    }\n",
       "\n",
       "    .dataframe thead th {\n",
       "        text-align: right;\n",
       "    }\n",
       "</style>\n",
       "<table border=\"1\" class=\"dataframe\">\n",
       "  <thead>\n",
       "    <tr style=\"text-align: right;\">\n",
       "      <th></th>\n",
       "      <th>mu_var</th>\n",
       "      <th>mu_mean</th>\n",
       "      <th>mu</th>\n",
       "      <th>nu_sigma</th>\n",
       "      <th>nu_mu</th>\n",
       "      <th>nu</th>\n",
       "      <th>x</th>\n",
       "    </tr>\n",
       "  </thead>\n",
       "  <tbody>\n",
       "    <tr>\n",
       "      <th>0</th>\n",
       "      <td>1.854587</td>\n",
       "      <td>0.0</td>\n",
       "      <td>0.347604</td>\n",
       "      <td>0.541325</td>\n",
       "      <td>0.0</td>\n",
       "      <td>0.506969</td>\n",
       "      <td>-0.744915</td>\n",
       "    </tr>\n",
       "    <tr>\n",
       "      <th>1</th>\n",
       "      <td>1.854587</td>\n",
       "      <td>0.0</td>\n",
       "      <td>2.712392</td>\n",
       "      <td>0.541325</td>\n",
       "      <td>0.0</td>\n",
       "      <td>0.198692</td>\n",
       "      <td>-0.030138</td>\n",
       "    </tr>\n",
       "    <tr>\n",
       "      <th>2</th>\n",
       "      <td>1.854587</td>\n",
       "      <td>0.0</td>\n",
       "      <td>-1.070388</td>\n",
       "      <td>0.541325</td>\n",
       "      <td>0.0</td>\n",
       "      <td>2.704726</td>\n",
       "      <td>-0.301458</td>\n",
       "    </tr>\n",
       "    <tr>\n",
       "      <th>3</th>\n",
       "      <td>1.854587</td>\n",
       "      <td>0.0</td>\n",
       "      <td>-0.420039</td>\n",
       "      <td>0.541325</td>\n",
       "      <td>0.0</td>\n",
       "      <td>0.240410</td>\n",
       "      <td>-0.652323</td>\n",
       "    </tr>\n",
       "    <tr>\n",
       "      <th>4</th>\n",
       "      <td>1.854587</td>\n",
       "      <td>0.0</td>\n",
       "      <td>0.473910</td>\n",
       "      <td>0.541325</td>\n",
       "      <td>0.0</td>\n",
       "      <td>2.852729</td>\n",
       "      <td>0.925209</td>\n",
       "    </tr>\n",
       "  </tbody>\n",
       "</table>\n",
       "</div>"
      ],
      "text/plain": [
       "     mu_var  mu_mean        mu  nu_sigma  nu_mu        nu         x\n",
       "0  1.854587      0.0  0.347604  0.541325    0.0  0.506969 -0.744915\n",
       "1  1.854587      0.0  2.712392  0.541325    0.0  0.198692 -0.030138\n",
       "2  1.854587      0.0 -1.070388  0.541325    0.0  2.704726 -0.301458\n",
       "3  1.854587      0.0 -0.420039  0.541325    0.0  0.240410 -0.652323\n",
       "4  1.854587      0.0  0.473910  0.541325    0.0  2.852729  0.925209"
      ]
     },
     "execution_count": 3,
     "metadata": {},
     "output_type": "execute_result"
    }
   ],
   "source": [
    "# Print samples\n",
    "sample = model.get_sample(5)\n",
    "sample"
   ]
  },
  {
   "cell_type": "code",
   "execution_count": 4,
   "metadata": {},
   "outputs": [
    {
     "data": {
      "text/html": [
       "<div>\n",
       "<style scoped>\n",
       "    .dataframe tbody tr th:only-of-type {\n",
       "        vertical-align: middle;\n",
       "    }\n",
       "\n",
       "    .dataframe tbody tr th {\n",
       "        vertical-align: top;\n",
       "    }\n",
       "\n",
       "    .dataframe thead th {\n",
       "        text-align: right;\n",
       "    }\n",
       "</style>\n",
       "<table border=\"1\" class=\"dataframe\">\n",
       "  <thead>\n",
       "    <tr style=\"text-align: right;\">\n",
       "      <th></th>\n",
       "      <th>x</th>\n",
       "    </tr>\n",
       "  </thead>\n",
       "  <tbody>\n",
       "    <tr>\n",
       "      <th>0</th>\n",
       "      <td>1.440571</td>\n",
       "    </tr>\n",
       "    <tr>\n",
       "      <th>1</th>\n",
       "      <td>-1.673813</td>\n",
       "    </tr>\n",
       "    <tr>\n",
       "      <th>2</th>\n",
       "      <td>-0.525077</td>\n",
       "    </tr>\n",
       "    <tr>\n",
       "      <th>3</th>\n",
       "      <td>0.173008</td>\n",
       "    </tr>\n",
       "    <tr>\n",
       "      <th>4</th>\n",
       "      <td>-0.280993</td>\n",
       "    </tr>\n",
       "  </tbody>\n",
       "</table>\n",
       "</div>"
      ],
      "text/plain": [
       "          x\n",
       "0  1.440571\n",
       "1 -1.673813\n",
       "2 -0.525077\n",
       "3  0.173008\n",
       "4 -0.280993"
      ]
     },
     "execution_count": 4,
     "metadata": {},
     "output_type": "execute_result"
    }
   ],
   "source": [
    "# Print samples from single variable\n",
    "x_sample = x.get_sample(5)\n",
    "x_sample"
   ]
  },
  {
   "cell_type": "code",
   "execution_count": 5,
   "metadata": {},
   "outputs": [
    {
     "data": {
      "text/html": [
       "<div>\n",
       "<style scoped>\n",
       "    .dataframe tbody tr th:only-of-type {\n",
       "        vertical-align: middle;\n",
       "    }\n",
       "\n",
       "    .dataframe tbody tr th {\n",
       "        vertical-align: top;\n",
       "    }\n",
       "\n",
       "    .dataframe thead th {\n",
       "        text-align: right;\n",
       "    }\n",
       "</style>\n",
       "<table border=\"1\" class=\"dataframe\">\n",
       "  <thead>\n",
       "    <tr style=\"text-align: right;\">\n",
       "      <th></th>\n",
       "      <th>mu</th>\n",
       "      <th>nu_sigma</th>\n",
       "      <th>nu_mu</th>\n",
       "      <th>nu</th>\n",
       "      <th>x</th>\n",
       "    </tr>\n",
       "  </thead>\n",
       "  <tbody>\n",
       "    <tr>\n",
       "      <th>0</th>\n",
       "      <td>100.0</td>\n",
       "      <td>0.541325</td>\n",
       "      <td>0.0</td>\n",
       "      <td>0.554976</td>\n",
       "      <td>-0.846680</td>\n",
       "    </tr>\n",
       "    <tr>\n",
       "      <th>1</th>\n",
       "      <td>100.0</td>\n",
       "      <td>0.541325</td>\n",
       "      <td>0.0</td>\n",
       "      <td>0.540205</td>\n",
       "      <td>-1.306114</td>\n",
       "    </tr>\n",
       "    <tr>\n",
       "      <th>2</th>\n",
       "      <td>100.0</td>\n",
       "      <td>0.541325</td>\n",
       "      <td>0.0</td>\n",
       "      <td>2.403955</td>\n",
       "      <td>-3.448499</td>\n",
       "    </tr>\n",
       "    <tr>\n",
       "      <th>3</th>\n",
       "      <td>100.0</td>\n",
       "      <td>0.541325</td>\n",
       "      <td>0.0</td>\n",
       "      <td>0.270676</td>\n",
       "      <td>-1.331100</td>\n",
       "    </tr>\n",
       "    <tr>\n",
       "      <th>4</th>\n",
       "      <td>100.0</td>\n",
       "      <td>0.541325</td>\n",
       "      <td>0.0</td>\n",
       "      <td>1.108322</td>\n",
       "      <td>-0.784866</td>\n",
       "    </tr>\n",
       "  </tbody>\n",
       "</table>\n",
       "</div>"
      ],
      "text/plain": [
       "      mu  nu_sigma  nu_mu        nu         x\n",
       "0  100.0  0.541325    0.0  0.554976 -0.846680\n",
       "1  100.0  0.541325    0.0  0.540205 -1.306114\n",
       "2  100.0  0.541325    0.0  2.403955 -3.448499\n",
       "3  100.0  0.541325    0.0  0.270676 -1.331100\n",
       "4  100.0  0.541325    0.0  1.108322 -0.784866"
      ]
     },
     "execution_count": 5,
     "metadata": {},
     "output_type": "execute_result"
    }
   ],
   "source": [
    "# Print samples conditional on an input\n",
    "in_sample = model.get_sample(5, input_values={mu: 100.})\n",
    "in_sample"
   ]
  },
  {
   "cell_type": "code",
   "execution_count": 6,
   "metadata": {},
   "outputs": [
    {
     "data": {
      "text/html": [
       "<div>\n",
       "<style scoped>\n",
       "    .dataframe tbody tr th:only-of-type {\n",
       "        vertical-align: middle;\n",
       "    }\n",
       "\n",
       "    .dataframe tbody tr th {\n",
       "        vertical-align: top;\n",
       "    }\n",
       "\n",
       "    .dataframe thead th {\n",
       "        text-align: right;\n",
       "    }\n",
       "</style>\n",
       "<table border=\"1\" class=\"dataframe\">\n",
       "  <thead>\n",
       "    <tr style=\"text-align: right;\">\n",
       "      <th></th>\n",
       "      <th>mu_var</th>\n",
       "      <th>nu_mu</th>\n",
       "      <th>mu_mean</th>\n",
       "      <th>nu_sigma</th>\n",
       "      <th>x</th>\n",
       "      <th>mu</th>\n",
       "      <th>nu</th>\n",
       "    </tr>\n",
       "  </thead>\n",
       "  <tbody>\n",
       "    <tr>\n",
       "      <th>Distribution</th>\n",
       "      <td>Deterministic</td>\n",
       "      <td>Deterministic</td>\n",
       "      <td>Deterministic</td>\n",
       "      <td>Deterministic</td>\n",
       "      <td>Normal</td>\n",
       "      <td>Normal</td>\n",
       "      <td>Log Normal</td>\n",
       "    </tr>\n",
       "    <tr>\n",
       "      <th>Parents</th>\n",
       "      <td>()</td>\n",
       "      <td>()</td>\n",
       "      <td>()</td>\n",
       "      <td>()</td>\n",
       "      <td>{nu, mu}</td>\n",
       "      <td>{mu_var, mu_mean}</td>\n",
       "      <td>{nu_sigma, nu_mu}</td>\n",
       "    </tr>\n",
       "    <tr>\n",
       "      <th>Observed</th>\n",
       "      <td>False</td>\n",
       "      <td>False</td>\n",
       "      <td>False</td>\n",
       "      <td>False</td>\n",
       "      <td>True</td>\n",
       "      <td>False</td>\n",
       "      <td>False</td>\n",
       "    </tr>\n",
       "  </tbody>\n",
       "</table>\n",
       "</div>"
      ],
      "text/plain": [
       "                     mu_var          nu_mu        mu_mean       nu_sigma  \\\n",
       "Distribution  Deterministic  Deterministic  Deterministic  Deterministic   \n",
       "Parents                  ()             ()             ()             ()   \n",
       "Observed              False          False          False          False   \n",
       "\n",
       "                     x                 mu                 nu  \n",
       "Distribution    Normal             Normal         Log Normal  \n",
       "Parents       {nu, mu}  {mu_var, mu_mean}  {nu_sigma, nu_mu}  \n",
       "Observed          True              False              False  "
      ]
     },
     "execution_count": 6,
     "metadata": {},
     "output_type": "execute_result"
    }
   ],
   "source": [
    "# # Generate data\n",
    "data = model.get_sample(number_samples=10, input_values={mu: mu_real, nu: nu_real})\n",
    "\n",
    "# Observe data\n",
    "x.observe(data) #TODO: Implement observe method on probabilisticModel\n",
    "model.model_summary"
   ]
  },
  {
   "cell_type": "code",
   "execution_count": 7,
   "metadata": {},
   "outputs": [
    {
     "name": "stderr",
     "output_type": "stream",
     "text": [
      "100%|██████████| 800/800 [00:13<00:00, 59.43it/s]\n"
     ]
    },
    {
     "data": {
      "text/plain": [
       "[<matplotlib.lines.Line2D at 0x7f41c0fc77b8>]"
      ]
     },
     "execution_count": 7,
     "metadata": {},
     "output_type": "execute_result"
    },
    {
     "data": {
      "image/png": "[encoded data removed]",
      "text/plain": [
       "<Figure size 432x288 with 1 Axes>"
      ]
     },
     "metadata": {
      "needs_background": "light"
     },
     "output_type": "display_data"
    }
   ],
   "source": [
    "# Variational model\n",
    "Qmu = NormalVariable(0., 1., \"mu\", learnable=True)\n",
    "Qnu = LogNormalVariable(0., 1., \"nu\", learnable=True)\n",
    "model.set_posterior_model(ProbabilisticModel([Qmu, Qnu]))\n",
    "\n",
    "# Inference\n",
    "inference.stochastic_variational_inference(model,\n",
    "                                           number_iterations=800,\n",
    "                                           number_samples=50,\n",
    "                                           optimizer=chainer.optimizers.Adam(0.05))\n",
    "loss_list = model.diagnostics[\"loss curve\"]\n",
    "plt.plot(loss_list)"
   ]
  },
  {
   "cell_type": "code",
   "execution_count": 8,
   "metadata": {},
   "outputs": [
    {
     "data": {
      "text/html": [
       "<div>\n",
       "<style scoped>\n",
       "    .dataframe tbody tr th:only-of-type {\n",
       "        vertical-align: middle;\n",
       "    }\n",
       "\n",
       "    .dataframe tbody tr th {\n",
       "        vertical-align: top;\n",
       "    }\n",
       "\n",
       "    .dataframe thead th {\n",
       "        text-align: right;\n",
       "    }\n",
       "</style>\n",
       "<table border=\"1\" class=\"dataframe\">\n",
       "  <thead>\n",
       "    <tr style=\"text-align: right;\">\n",
       "      <th></th>\n",
       "      <th>mu</th>\n",
       "      <th>nu</th>\n",
       "      <th>x</th>\n",
       "      <th>mu_mean</th>\n",
       "      <th>mu_var</th>\n",
       "      <th>nu_sigma</th>\n",
       "      <th>nu_mu</th>\n",
       "    </tr>\n",
       "  </thead>\n",
       "  <tbody>\n",
       "    <tr>\n",
       "      <th>count</th>\n",
       "      <td>1000.000000</td>\n",
       "      <td>1000.000000</td>\n",
       "      <td>1000.000000</td>\n",
       "      <td>1000.000000</td>\n",
       "      <td>1000.000000</td>\n",
       "      <td>1000.000000</td>\n",
       "      <td>1000.000000</td>\n",
       "    </tr>\n",
       "    <tr>\n",
       "      <th>mean</th>\n",
       "      <td>1.349018</td>\n",
       "      <td>0.780682</td>\n",
       "      <td>0.908551</td>\n",
       "      <td>1.355214</td>\n",
       "      <td>-1.332098</td>\n",
       "      <td>-0.627701</td>\n",
       "      <td>-0.324789</td>\n",
       "    </tr>\n",
       "    <tr>\n",
       "      <th>std</th>\n",
       "      <td>0.464360</td>\n",
       "      <td>0.337424</td>\n",
       "      <td>0.847891</td>\n",
       "      <td>0.000000</td>\n",
       "      <td>0.000000</td>\n",
       "      <td>0.000000</td>\n",
       "      <td>0.000000</td>\n",
       "    </tr>\n",
       "    <tr>\n",
       "      <th>min</th>\n",
       "      <td>-0.369641</td>\n",
       "      <td>0.213782</td>\n",
       "      <td>-1.566112</td>\n",
       "      <td>1.355214</td>\n",
       "      <td>-1.332098</td>\n",
       "      <td>-0.627701</td>\n",
       "      <td>-0.324789</td>\n",
       "    </tr>\n",
       "    <tr>\n",
       "      <th>25%</th>\n",
       "      <td>1.035802</td>\n",
       "      <td>0.547389</td>\n",
       "      <td>0.365960</td>\n",
       "      <td>1.355214</td>\n",
       "      <td>-1.332098</td>\n",
       "      <td>-0.627701</td>\n",
       "      <td>-0.324789</td>\n",
       "    </tr>\n",
       "    <tr>\n",
       "      <th>50%</th>\n",
       "      <td>1.341336</td>\n",
       "      <td>0.722998</td>\n",
       "      <td>0.907593</td>\n",
       "      <td>1.355214</td>\n",
       "      <td>-1.332098</td>\n",
       "      <td>-0.627701</td>\n",
       "      <td>-0.324789</td>\n",
       "    </tr>\n",
       "    <tr>\n",
       "      <th>75%</th>\n",
       "      <td>1.669104</td>\n",
       "      <td>0.949723</td>\n",
       "      <td>1.459839</td>\n",
       "      <td>1.355214</td>\n",
       "      <td>-1.332098</td>\n",
       "      <td>-0.627701</td>\n",
       "      <td>-0.324789</td>\n",
       "    </tr>\n",
       "    <tr>\n",
       "      <th>max</th>\n",
       "      <td>2.691750</td>\n",
       "      <td>3.326164</td>\n",
       "      <td>4.270887</td>\n",
       "      <td>1.355214</td>\n",
       "      <td>-1.332098</td>\n",
       "      <td>-0.627701</td>\n",
       "      <td>-0.324789</td>\n",
       "    </tr>\n",
       "  </tbody>\n",
       "</table>\n",
       "</div>"
      ],
      "text/plain": [
       "                mu           nu            x      mu_mean       mu_var  \\\n",
       "count  1000.000000  1000.000000  1000.000000  1000.000000  1000.000000   \n",
       "mean      1.349018     0.780682     0.908551     1.355214    -1.332098   \n",
       "std       0.464360     0.337424     0.847891     0.000000     0.000000   \n",
       "min      -0.369641     0.213782    -1.566112     1.355214    -1.332098   \n",
       "25%       1.035802     0.547389     0.365960     1.355214    -1.332098   \n",
       "50%       1.341336     0.722998     0.907593     1.355214    -1.332098   \n",
       "75%       1.669104     0.949723     1.459839     1.355214    -1.332098   \n",
       "max       2.691750     3.326164     4.270887     1.355214    -1.332098   \n",
       "\n",
       "          nu_sigma        nu_mu  \n",
       "count  1000.000000  1000.000000  \n",
       "mean     -0.627701    -0.324789  \n",
       "std       0.000000     0.000000  \n",
       "min      -0.627701    -0.324789  \n",
       "25%      -0.627701    -0.324789  \n",
       "50%      -0.627701    -0.324789  \n",
       "75%      -0.627701    -0.324789  \n",
       "max      -0.627701    -0.324789  "
      ]
     },
     "execution_count": 8,
     "metadata": {},
     "output_type": "execute_result"
    }
   ],
   "source": [
    "# print posterior sample\n",
    "post_sample = model.get_posterior_sample(1000)\n",
    "post_sample.describe()"
   ]
  },
  {
   "cell_type": "code",
   "execution_count": 9,
   "metadata": {},
   "outputs": [
    {
     "data": {
      "text/plain": [
       "(-5, 5)"
      ]
     },
     "execution_count": 9,
     "metadata": {},
     "output_type": "execute_result"
    },
    {
     "data": {
      "image/png": "[encoded data removed]",
      "text/plain": [
       "<Figure size 432x288 with 1 Axes>"
      ]
     },
     "metadata": {
      "needs_background": "light"
     },
     "output_type": "display_data"
    }
   ],
   "source": [
    "post_sample[\"mu\"].plot.hist(stacked=False, bins=40)\n",
    "plt.axvline(x=mu_real, c=\"k\", lw=2)\n",
    "plt.xlim(-5,5)"
   ]
  },
  {
   "cell_type": "code",
   "execution_count": 10,
   "metadata": {},
   "outputs": [
    {
     "data": {
      "text/plain": [
       "(0, 6)"
      ]
     },
     "execution_count": 10,
     "metadata": {},
     "output_type": "execute_result"
    },
    {
     "data": {
      "image/png": "[encoded data removed]",
      "text/plain": [
       "<Figure size 432x288 with 1 Axes>"
      ]
     },
     "metadata": {
      "needs_background": "light"
     },
     "output_type": "display_data"
    }
   ],
   "source": [
    "post_sample[\"nu\"].plot.hist(stacked=False, bins=40)\n",
    "plt.axvline(x=nu_real, c=\"k\", lw=2)\n",
    "plt.xlim(0,6)"
   ]
  },
  {
   "cell_type": "code",
   "execution_count": 11,
   "metadata": {},
   "outputs": [
    {
     "data": {
      "image/png": "[encoded data removed]",
      "text/plain": [
       "<Figure size 620.375x540 with 12 Axes>"
      ]
     },
     "metadata": {
      "needs_background": "light"
     },
     "output_type": "display_data"
    }
   ],
   "source": [
    "from brancher.visualizations import plot_posterior\n",
    "\n",
    "plot_posterior(model, variables=[\"mu\", \"nu\", \"x\"])"
   ]
  },
  {
   "cell_type": "code",
   "execution_count": null,
   "metadata": {},
   "outputs": [],
   "source": []
  }
 ],
 "metadata": {
  "kernelspec": {
   "display_name": "Python 3",
   "language": "python",
   "name": "python3"
  },
  "language_info": {
   "codemirror_mode": {
    "name": "ipython",
    "version": 3
   },
   "file_extension": ".py",
   "mimetype": "text/x-python",
   "name": "python",
   "nbconvert_exporter": "python",
   "pygments_lexer": "ipython3",
   "version": "3.7.0"
  }
 },
 "nbformat": 4,
 "nbformat_minor": 1
}
