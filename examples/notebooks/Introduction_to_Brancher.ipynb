{
 "cells": [
  {
   "cell_type": "markdown",
   "metadata": {},
   "source": [
    "# Welcome to Brancher\n",
    "Brancher is a user-centered probabilistic differentiable programming library. Brancher is designed to be as beginner friendly as possible and to minimize boilerplate code while retaining all the power and flexibility of general-purpose differentiable probabilistic programming and deep learning. Brancher is built around the deep learning framework [Chainer](https://chainer.org/). \n",
    "\n",
    "In this notebook I will explain how to use Brancher for writing your own differentiable probabilistic program and perform variational inference in a/only few lines of code. Let's start by importing some modules!"
   ]
  },
  {
   "cell_type": "code",
   "execution_count": 7,
   "metadata": {},
   "outputs": [],
   "source": [
    "import sys\n",
    "sys.path.append('/home/luca/GitRepositories/PyTorch/Brancher')\n",
    "\n",
    "import torch\n",
    "import matplotlib.pyplot as plt\n",
    "\n",
    "from brancher.variables import DeterministicVariable, ProbabilisticModel\n",
    "from brancher.standard_variables import NormalVariable, LogNormalVariable\n",
    "from brancher import inference\n",
    "import brancher.functions as BF"
   ]
  },
  {
   "cell_type": "markdown",
   "metadata": {},
   "source": [
    "Brancher is an object oriented library. This means that all objects in brancher are instantiation of classes that define the abstractions required for probabilistic programming. The foundamental building block of all Brancher programs is the RandomVariable class. probabilistic models are constructed by linking random variables through differentiable functions. RandomVariables are characterized by a probability distribution, a set of parent variables and a link that specifies how the values of the parents determine the parameters of its distribution.\n",
    "\n",
    "For example, let's define a model where the mean of a normal random variable (mu) is determined by the sine of another normal random variable. Brancher allows you to define his model symbolically like you would do in a scientific paper:"
   ]
  },
  {
   "cell_type": "code",
   "execution_count": 9,
   "metadata": {},
   "outputs": [],
   "source": [
    "# Normal model\n",
    "nu = LogNormalVariable(loc=0., scale=1., name=\"nu\")\n",
    "mu = NormalVariable(loc=0., scale=10., name=\"mu\")\n",
    "x = NormalVariable(loc=BF.sin(mu), scale=nu, name=\"x\")"
   ]
  },
  {
   "cell_type": "markdown",
   "metadata": {},
   "source": [
    "You have to admit that this is a pretty clean sintax! The classes LogNormalVariable and  NormalVariable are subclasses of RandomVariables. The [log normal](https://en.wikipedia.org/wiki/Log-normal_distribution) variable is obtained by taking the exponential of a normal random variable. This is a known special case of the differentiable probabilistic programming approach of obtaining new probability distributions by applying differentiable functions on a small set of basic distributions such as the normal.\n",
    "\n",
    "Let's now define a probabilistic model with all our variables:"
   ]
  },
  {
   "cell_type": "code",
   "execution_count": 10,
   "metadata": {},
   "outputs": [],
   "source": [
    "model = ProbabilisticModel([x, mu, nu])"
   ]
  },
  {
   "cell_type": "markdown",
   "metadata": {},
   "source": [
    "Since mu and nu are parents of x, ProbabilisticModel([x])\n",
    "\n",
    "This expression is slightly reduntant because ProbabilisticModel([x]) already contains all the variables since mu and nu are parents of x. However, I recommend explicitly inputing all the variables for making your code more readable. \n",
    "\n",
    "We can now print a summary of our model:"
   ]
  },
  {
   "cell_type": "code",
   "execution_count": 11,
   "metadata": {},
   "outputs": [
    {
     "data": {
      "text/html": [
       "<div>\n",
       "<style scoped>\n",
       "    .dataframe tbody tr th:only-of-type {\n",
       "        vertical-align: middle;\n",
       "    }\n",
       "\n",
       "    .dataframe tbody tr th {\n",
       "        vertical-align: top;\n",
       "    }\n",
       "\n",
       "    .dataframe thead th {\n",
       "        text-align: right;\n",
       "    }\n",
       "</style>\n",
       "<table border=\"1\" class=\"dataframe\">\n",
       "  <thead>\n",
       "    <tr style=\"text-align: right;\">\n",
       "      <th></th>\n",
       "      <th>nu_loc</th>\n",
       "      <th>mu_loc</th>\n",
       "      <th>mu_scale</th>\n",
       "      <th>x</th>\n",
       "      <th>nu</th>\n",
       "      <th>mu</th>\n",
       "      <th>nu_scale</th>\n",
       "    </tr>\n",
       "  </thead>\n",
       "  <tbody>\n",
       "    <tr>\n",
       "      <th>Distribution</th>\n",
       "      <td>Deterministic</td>\n",
       "      <td>Deterministic</td>\n",
       "      <td>Deterministic</td>\n",
       "      <td>Normal</td>\n",
       "      <td>Log Normal</td>\n",
       "      <td>Normal</td>\n",
       "      <td>Deterministic</td>\n",
       "    </tr>\n",
       "    <tr>\n",
       "      <th>Parents</th>\n",
       "      <td>()</td>\n",
       "      <td>()</td>\n",
       "      <td>()</td>\n",
       "      <td>{nu, mu}</td>\n",
       "      <td>{nu_loc, nu_scale}</td>\n",
       "      <td>{mu_loc, mu_scale}</td>\n",
       "      <td>()</td>\n",
       "    </tr>\n",
       "    <tr>\n",
       "      <th>Observed</th>\n",
       "      <td>False</td>\n",
       "      <td>False</td>\n",
       "      <td>False</td>\n",
       "      <td>False</td>\n",
       "      <td>False</td>\n",
       "      <td>False</td>\n",
       "      <td>False</td>\n",
       "    </tr>\n",
       "  </tbody>\n",
       "</table>\n",
       "</div>"
      ],
      "text/plain": [
       "                     nu_loc         mu_loc       mu_scale         x  \\\n",
       "Distribution  Deterministic  Deterministic  Deterministic    Normal   \n",
       "Parents                  ()             ()             ()  {nu, mu}   \n",
       "Observed              False          False          False     False   \n",
       "\n",
       "                              nu                  mu       nu_scale  \n",
       "Distribution          Log Normal              Normal  Deterministic  \n",
       "Parents       {nu_loc, nu_scale}  {mu_loc, mu_scale}             ()  \n",
       "Observed                   False               False          False  "
      ]
     },
     "execution_count": 11,
     "metadata": {},
     "output_type": "execute_result"
    }
   ],
   "source": [
    "model.model_summary"
   ]
  },
  {
   "cell_type": "markdown",
   "metadata": {},
   "source": [
    "As we would expect, the variable x has mu and nu as parents. However, you might be surprised by the fact that there are new variables such as mu_mu and mu_sigma whioch we did not explicitly defined. These are deterministic variables that represent the fixed values of the parameters of our distribution. DeterministicVariables are a special case of BrancherVariables, they behave pretty much like RandomVariables expect their value being deterministic. As you can see, often you will not need to define these variables explicitly since Brancher will constract them for you when you input numbers or np.array as parameters for your RandomVariables.\n",
    "\n",
    "All the variables are currently marked as not observed. We will see how to \"observe\" some variables by inputing data later on.\n",
    "\n",
    "Let's now have a look to sampling: the most important operation you can do on probabilisticModels!"
   ]
  },
  {
   "cell_type": "code",
   "execution_count": 12,
   "metadata": {},
   "outputs": [
    {
     "data": {
      "text/html": [
       "<div>\n",
       "<style scoped>\n",
       "    .dataframe tbody tr th:only-of-type {\n",
       "        vertical-align: middle;\n",
       "    }\n",
       "\n",
       "    .dataframe tbody tr th {\n",
       "        vertical-align: top;\n",
       "    }\n",
       "\n",
       "    .dataframe thead th {\n",
       "        text-align: right;\n",
       "    }\n",
       "</style>\n",
       "<table border=\"1\" class=\"dataframe\">\n",
       "  <thead>\n",
       "    <tr style=\"text-align: right;\">\n",
       "      <th></th>\n",
       "      <th>nu_loc</th>\n",
       "      <th>nu_scale</th>\n",
       "      <th>nu</th>\n",
       "      <th>mu_loc</th>\n",
       "      <th>mu_scale</th>\n",
       "      <th>mu</th>\n",
       "      <th>x</th>\n",
       "    </tr>\n",
       "  </thead>\n",
       "  <tbody>\n",
       "    <tr>\n",
       "      <th>0</th>\n",
       "      <td>0.0</td>\n",
       "      <td>0.541325</td>\n",
       "      <td>0.610485</td>\n",
       "      <td>0.0</td>\n",
       "      <td>9.999954</td>\n",
       "      <td>-4.692862</td>\n",
       "      <td>1.408240</td>\n",
       "    </tr>\n",
       "    <tr>\n",
       "      <th>1</th>\n",
       "      <td>0.0</td>\n",
       "      <td>0.541325</td>\n",
       "      <td>2.042586</td>\n",
       "      <td>0.0</td>\n",
       "      <td>9.999954</td>\n",
       "      <td>-4.073215</td>\n",
       "      <td>0.747594</td>\n",
       "    </tr>\n",
       "    <tr>\n",
       "      <th>2</th>\n",
       "      <td>0.0</td>\n",
       "      <td>0.541325</td>\n",
       "      <td>0.534636</td>\n",
       "      <td>0.0</td>\n",
       "      <td>9.999954</td>\n",
       "      <td>-21.751005</td>\n",
       "      <td>-0.480419</td>\n",
       "    </tr>\n",
       "    <tr>\n",
       "      <th>3</th>\n",
       "      <td>0.0</td>\n",
       "      <td>0.541325</td>\n",
       "      <td>2.795825</td>\n",
       "      <td>0.0</td>\n",
       "      <td>9.999954</td>\n",
       "      <td>2.077716</td>\n",
       "      <td>-2.778865</td>\n",
       "    </tr>\n",
       "    <tr>\n",
       "      <th>4</th>\n",
       "      <td>0.0</td>\n",
       "      <td>0.541325</td>\n",
       "      <td>3.133196</td>\n",
       "      <td>0.0</td>\n",
       "      <td>9.999954</td>\n",
       "      <td>-17.071997</td>\n",
       "      <td>3.515878</td>\n",
       "    </tr>\n",
       "    <tr>\n",
       "      <th>5</th>\n",
       "      <td>0.0</td>\n",
       "      <td>0.541325</td>\n",
       "      <td>0.980159</td>\n",
       "      <td>0.0</td>\n",
       "      <td>9.999954</td>\n",
       "      <td>-0.333023</td>\n",
       "      <td>0.936766</td>\n",
       "    </tr>\n",
       "    <tr>\n",
       "      <th>6</th>\n",
       "      <td>0.0</td>\n",
       "      <td>0.541325</td>\n",
       "      <td>1.273270</td>\n",
       "      <td>0.0</td>\n",
       "      <td>9.999954</td>\n",
       "      <td>-9.090296</td>\n",
       "      <td>-0.795724</td>\n",
       "    </tr>\n",
       "    <tr>\n",
       "      <th>7</th>\n",
       "      <td>0.0</td>\n",
       "      <td>0.541325</td>\n",
       "      <td>1.572455</td>\n",
       "      <td>0.0</td>\n",
       "      <td>9.999954</td>\n",
       "      <td>6.148064</td>\n",
       "      <td>-1.402784</td>\n",
       "    </tr>\n",
       "    <tr>\n",
       "      <th>8</th>\n",
       "      <td>0.0</td>\n",
       "      <td>0.541325</td>\n",
       "      <td>0.887032</td>\n",
       "      <td>0.0</td>\n",
       "      <td>9.999954</td>\n",
       "      <td>-10.028753</td>\n",
       "      <td>-0.257453</td>\n",
       "    </tr>\n",
       "    <tr>\n",
       "      <th>9</th>\n",
       "      <td>0.0</td>\n",
       "      <td>0.541325</td>\n",
       "      <td>2.557384</td>\n",
       "      <td>0.0</td>\n",
       "      <td>9.999954</td>\n",
       "      <td>8.552684</td>\n",
       "      <td>2.171036</td>\n",
       "    </tr>\n",
       "  </tbody>\n",
       "</table>\n",
       "</div>"
      ],
      "text/plain": [
       "   nu_loc  nu_scale        nu  mu_loc  mu_scale         mu         x\n",
       "0     0.0  0.541325  0.610485     0.0  9.999954  -4.692862  1.408240\n",
       "1     0.0  0.541325  2.042586     0.0  9.999954  -4.073215  0.747594\n",
       "2     0.0  0.541325  0.534636     0.0  9.999954 -21.751005 -0.480419\n",
       "3     0.0  0.541325  2.795825     0.0  9.999954   2.077716 -2.778865\n",
       "4     0.0  0.541325  3.133196     0.0  9.999954 -17.071997  3.515878\n",
       "5     0.0  0.541325  0.980159     0.0  9.999954  -0.333023  0.936766\n",
       "6     0.0  0.541325  1.273270     0.0  9.999954  -9.090296 -0.795724\n",
       "7     0.0  0.541325  1.572455     0.0  9.999954   6.148064 -1.402784\n",
       "8     0.0  0.541325  0.887032     0.0  9.999954 -10.028753 -0.257453\n",
       "9     0.0  0.541325  2.557384     0.0  9.999954   8.552684  2.171036"
      ]
     },
     "execution_count": 12,
     "metadata": {},
     "output_type": "execute_result"
    }
   ],
   "source": [
    "# Print samples\n",
    "sample = model.get_sample(10)\n",
    "sample"
   ]
  },
  {
   "cell_type": "markdown",
   "metadata": {},
   "source": [
    "As you can see, if we sample from the ProbabilisticModel we get samples for all the variables in our model. We can also sample from the individual variables:"
   ]
  },
  {
   "cell_type": "code",
   "execution_count": 13,
   "metadata": {},
   "outputs": [
    {
     "data": {
      "text/html": [
       "<div>\n",
       "<style scoped>\n",
       "    .dataframe tbody tr th:only-of-type {\n",
       "        vertical-align: middle;\n",
       "    }\n",
       "\n",
       "    .dataframe tbody tr th {\n",
       "        vertical-align: top;\n",
       "    }\n",
       "\n",
       "    .dataframe thead th {\n",
       "        text-align: right;\n",
       "    }\n",
       "</style>\n",
       "<table border=\"1\" class=\"dataframe\">\n",
       "  <thead>\n",
       "    <tr style=\"text-align: right;\">\n",
       "      <th></th>\n",
       "      <th>x</th>\n",
       "    </tr>\n",
       "  </thead>\n",
       "  <tbody>\n",
       "    <tr>\n",
       "      <th>0</th>\n",
       "      <td>3.281345</td>\n",
       "    </tr>\n",
       "    <tr>\n",
       "      <th>1</th>\n",
       "      <td>-0.072787</td>\n",
       "    </tr>\n",
       "    <tr>\n",
       "      <th>2</th>\n",
       "      <td>1.374217</td>\n",
       "    </tr>\n",
       "    <tr>\n",
       "      <th>3</th>\n",
       "      <td>-0.465171</td>\n",
       "    </tr>\n",
       "    <tr>\n",
       "      <th>4</th>\n",
       "      <td>-0.561347</td>\n",
       "    </tr>\n",
       "    <tr>\n",
       "      <th>5</th>\n",
       "      <td>2.561463</td>\n",
       "    </tr>\n",
       "    <tr>\n",
       "      <th>6</th>\n",
       "      <td>-1.254782</td>\n",
       "    </tr>\n",
       "    <tr>\n",
       "      <th>7</th>\n",
       "      <td>0.123781</td>\n",
       "    </tr>\n",
       "    <tr>\n",
       "      <th>8</th>\n",
       "      <td>0.417437</td>\n",
       "    </tr>\n",
       "    <tr>\n",
       "      <th>9</th>\n",
       "      <td>-0.901999</td>\n",
       "    </tr>\n",
       "  </tbody>\n",
       "</table>\n",
       "</div>"
      ],
      "text/plain": [
       "          x\n",
       "0  3.281345\n",
       "1 -0.072787\n",
       "2  1.374217\n",
       "3 -0.465171\n",
       "4 -0.561347\n",
       "5  2.561463\n",
       "6 -1.254782\n",
       "7  0.123781\n",
       "8  0.417437\n",
       "9 -0.901999"
      ]
     },
     "execution_count": 13,
     "metadata": {},
     "output_type": "execute_result"
    }
   ],
   "source": [
    "# Print samples from single variable\n",
    "x_sample = x.get_sample(10)\n",
    "x_sample"
   ]
  },
  {
   "cell_type": "markdown",
   "metadata": {},
   "source": [
    "Note that Brancher is still sampling all the parents of x recursively (parents of the parents and so on) since it needs all these values for sampling x.\n",
    "\n",
    "Another thing we can do is to sample after inputing the values of some variables. This converts the ProbabilisticModel into a random function that takes some input and output some samples with the probability distribution defined by the model:"
   ]
  },
  {
   "cell_type": "code",
   "execution_count": 14,
   "metadata": {},
   "outputs": [
    {
     "data": {
      "text/html": [
       "<div>\n",
       "<style scoped>\n",
       "    .dataframe tbody tr th:only-of-type {\n",
       "        vertical-align: middle;\n",
       "    }\n",
       "\n",
       "    .dataframe tbody tr th {\n",
       "        vertical-align: top;\n",
       "    }\n",
       "\n",
       "    .dataframe thead th {\n",
       "        text-align: right;\n",
       "    }\n",
       "</style>\n",
       "<table border=\"1\" class=\"dataframe\">\n",
       "  <thead>\n",
       "    <tr style=\"text-align: right;\">\n",
       "      <th></th>\n",
       "      <th>nu_loc</th>\n",
       "      <th>nu_scale</th>\n",
       "      <th>nu</th>\n",
       "      <th>mu</th>\n",
       "      <th>x</th>\n",
       "    </tr>\n",
       "  </thead>\n",
       "  <tbody>\n",
       "    <tr>\n",
       "      <th>0</th>\n",
       "      <td>0.0</td>\n",
       "      <td>0.541325</td>\n",
       "      <td>0.394180</td>\n",
       "      <td>100.0</td>\n",
       "      <td>-0.684730</td>\n",
       "    </tr>\n",
       "    <tr>\n",
       "      <th>1</th>\n",
       "      <td>0.0</td>\n",
       "      <td>0.541325</td>\n",
       "      <td>3.559321</td>\n",
       "      <td>100.0</td>\n",
       "      <td>6.910795</td>\n",
       "    </tr>\n",
       "    <tr>\n",
       "      <th>2</th>\n",
       "      <td>0.0</td>\n",
       "      <td>0.541325</td>\n",
       "      <td>0.236566</td>\n",
       "      <td>100.0</td>\n",
       "      <td>-0.889613</td>\n",
       "    </tr>\n",
       "    <tr>\n",
       "      <th>3</th>\n",
       "      <td>0.0</td>\n",
       "      <td>0.541325</td>\n",
       "      <td>0.680970</td>\n",
       "      <td>100.0</td>\n",
       "      <td>-2.177194</td>\n",
       "    </tr>\n",
       "    <tr>\n",
       "      <th>4</th>\n",
       "      <td>0.0</td>\n",
       "      <td>0.541325</td>\n",
       "      <td>4.895091</td>\n",
       "      <td>100.0</td>\n",
       "      <td>-5.392632</td>\n",
       "    </tr>\n",
       "    <tr>\n",
       "      <th>5</th>\n",
       "      <td>0.0</td>\n",
       "      <td>0.541325</td>\n",
       "      <td>0.788617</td>\n",
       "      <td>100.0</td>\n",
       "      <td>-0.399922</td>\n",
       "    </tr>\n",
       "    <tr>\n",
       "      <th>6</th>\n",
       "      <td>0.0</td>\n",
       "      <td>0.541325</td>\n",
       "      <td>1.516982</td>\n",
       "      <td>100.0</td>\n",
       "      <td>-1.104823</td>\n",
       "    </tr>\n",
       "    <tr>\n",
       "      <th>7</th>\n",
       "      <td>0.0</td>\n",
       "      <td>0.541325</td>\n",
       "      <td>0.346150</td>\n",
       "      <td>100.0</td>\n",
       "      <td>-0.259848</td>\n",
       "    </tr>\n",
       "    <tr>\n",
       "      <th>8</th>\n",
       "      <td>0.0</td>\n",
       "      <td>0.541325</td>\n",
       "      <td>0.264446</td>\n",
       "      <td>100.0</td>\n",
       "      <td>-0.514751</td>\n",
       "    </tr>\n",
       "    <tr>\n",
       "      <th>9</th>\n",
       "      <td>0.0</td>\n",
       "      <td>0.541325</td>\n",
       "      <td>0.309866</td>\n",
       "      <td>100.0</td>\n",
       "      <td>-0.976430</td>\n",
       "    </tr>\n",
       "  </tbody>\n",
       "</table>\n",
       "</div>"
      ],
      "text/plain": [
       "   nu_loc  nu_scale        nu     mu         x\n",
       "0     0.0  0.541325  0.394180  100.0 -0.684730\n",
       "1     0.0  0.541325  3.559321  100.0  6.910795\n",
       "2     0.0  0.541325  0.236566  100.0 -0.889613\n",
       "3     0.0  0.541325  0.680970  100.0 -2.177194\n",
       "4     0.0  0.541325  4.895091  100.0 -5.392632\n",
       "5     0.0  0.541325  0.788617  100.0 -0.399922\n",
       "6     0.0  0.541325  1.516982  100.0 -1.104823\n",
       "7     0.0  0.541325  0.346150  100.0 -0.259848\n",
       "8     0.0  0.541325  0.264446  100.0 -0.514751\n",
       "9     0.0  0.541325  0.309866  100.0 -0.976430"
      ]
     },
     "execution_count": 14,
     "metadata": {},
     "output_type": "execute_result"
    }
   ],
   "source": [
    "# Print samples conditional on an input\n",
    "in_sample = model.get_sample(10, input_values={mu: 100.})\n",
    "in_sample"
   ]
  },
  {
   "cell_type": "markdown",
   "metadata": {},
   "source": [
    "Note that this is equivalent to conditioning the model on the value of some variables and sampling everything downstream (children, grandchildren and so on). In order to sample upstream of some known values we need to define observation and use variational inference for getting an approximate posterior distribution. Let's begin by defining some ground truth values for the mu and nu variables and generate some synthetic observations:"
   ]
  },
  {
   "cell_type": "code",
   "execution_count": 15,
   "metadata": {},
   "outputs": [],
   "source": [
    "# # Generate data\n",
    "nu_real = 0.5\n",
    "mu_real = -1.\n",
    "data = x.get_sample(number_samples=100, input_values={mu: mu_real, nu: nu_real})"
   ]
  },
  {
   "cell_type": "markdown",
   "metadata": {},
   "source": [
    "We can now tell Brancher that the x variable is observed with the values specified by our data. In this case data is a Pandas dataframe since it is the output of the get_sample method. However you can also input a single number or an np.array of any shape (the first dimension of the array is going to be the batch dimension while the other define tensor values observations)."
   ]
  },
  {
   "cell_type": "code",
   "execution_count": 16,
   "metadata": {},
   "outputs": [
    {
     "data": {
      "text/html": [
       "<div>\n",
       "<style scoped>\n",
       "    .dataframe tbody tr th:only-of-type {\n",
       "        vertical-align: middle;\n",
       "    }\n",
       "\n",
       "    .dataframe tbody tr th {\n",
       "        vertical-align: top;\n",
       "    }\n",
       "\n",
       "    .dataframe thead th {\n",
       "        text-align: right;\n",
       "    }\n",
       "</style>\n",
       "<table border=\"1\" class=\"dataframe\">\n",
       "  <thead>\n",
       "    <tr style=\"text-align: right;\">\n",
       "      <th></th>\n",
       "      <th>nu_loc</th>\n",
       "      <th>mu_loc</th>\n",
       "      <th>mu_scale</th>\n",
       "      <th>x</th>\n",
       "      <th>nu</th>\n",
       "      <th>mu</th>\n",
       "      <th>nu_scale</th>\n",
       "    </tr>\n",
       "  </thead>\n",
       "  <tbody>\n",
       "    <tr>\n",
       "      <th>Distribution</th>\n",
       "      <td>Deterministic</td>\n",
       "      <td>Deterministic</td>\n",
       "      <td>Deterministic</td>\n",
       "      <td>Normal</td>\n",
       "      <td>Log Normal</td>\n",
       "      <td>Normal</td>\n",
       "      <td>Deterministic</td>\n",
       "    </tr>\n",
       "    <tr>\n",
       "      <th>Parents</th>\n",
       "      <td>()</td>\n",
       "      <td>()</td>\n",
       "      <td>()</td>\n",
       "      <td>{nu, mu}</td>\n",
       "      <td>{nu_loc, nu_scale}</td>\n",
       "      <td>{mu_loc, mu_scale}</td>\n",
       "      <td>()</td>\n",
       "    </tr>\n",
       "    <tr>\n",
       "      <th>Observed</th>\n",
       "      <td>False</td>\n",
       "      <td>False</td>\n",
       "      <td>False</td>\n",
       "      <td>True</td>\n",
       "      <td>False</td>\n",
       "      <td>False</td>\n",
       "      <td>False</td>\n",
       "    </tr>\n",
       "  </tbody>\n",
       "</table>\n",
       "</div>"
      ],
      "text/plain": [
       "                     nu_loc         mu_loc       mu_scale         x  \\\n",
       "Distribution  Deterministic  Deterministic  Deterministic    Normal   \n",
       "Parents                  ()             ()             ()  {nu, mu}   \n",
       "Observed              False          False          False      True   \n",
       "\n",
       "                              nu                  mu       nu_scale  \n",
       "Distribution          Log Normal              Normal  Deterministic  \n",
       "Parents       {nu_loc, nu_scale}  {mu_loc, mu_scale}             ()  \n",
       "Observed                   False               False          False  "
      ]
     },
     "execution_count": 16,
     "metadata": {},
     "output_type": "execute_result"
    }
   ],
   "source": [
    "# Observe data\n",
    "x.observe(data)\n",
    "model.model_summary"
   ]
  },
  {
   "cell_type": "markdown",
   "metadata": {},
   "source": [
    "As you can see the x variable is now observed. If you want to sample the variables mu and nu that are downstream x you need to perform approximate Bayesian inference. In Brancher, you can do this by defining a variational distribution for all the variables you want to sample from. The variational model is a probabilistic model itself and it is constructed in the very same way of our original probabilistic model.\n",
    "\n",
    "if you want to go deeper into the theory behind the variational approximation you can start with the [wikipedia page](https://en.wikipedia.org/wiki/Variational_Bayesian_methods) or excellent textbooks such as [Pattern recognition and machine learning](https://cds.cern.ch/record/998831/files/9780387310732_TOC.pdf).\n",
    "\n",
    "The simplest way of specifying this distribution is the use the same distributions you had in your original model:"
   ]
  },
  {
   "cell_type": "code",
   "execution_count": 17,
   "metadata": {},
   "outputs": [],
   "source": [
    "# Variational model\n",
    "Qnu = LogNormalVariable(0., 1., \"nu\", learnable=True)\n",
    "Qmu = NormalVariable(0., 1., \"mu\", learnable=True)\n",
    "model.set_posterior_model(ProbabilisticModel([Qmu, Qnu]))"
   ]
  },
  {
   "cell_type": "markdown",
   "metadata": {},
   "source": [
    "We now need to use some stochastic optimization (usual deep leaning stuff...) for learning the parameters of our variational approximation. This technique is called stochastic variational inference and it is extremely powerful since it neatly fit Bayesian inference into the deep learning framework (indeed brancher is designed to work with deep neural networks as building blocks for complex probabilistic models).\n",
    "\n",
    "We told Brancher that the parameters of the variational distributions are learnable using the \"learnable\" flag. Let's now learn those parameters:"
   ]
  },
  {
   "cell_type": "code",
   "execution_count": 18,
   "metadata": {},
   "outputs": [
    {
     "name": "stderr",
     "output_type": "stream",
     "text": [
      "/home/luca/GitRepositories/PyTorch/Brancher/brancher/inference.py:61: UserWarning: The inference method was not specified, using the default reverse KL variational inference\n",
      "  warnings.warn(\"The inference method was not specified, using the default reverse KL variational inference\")\n",
      "100%|██████████| 500/500 [00:02<00:00, 232.70it/s]\n"
     ]
    }
   ],
   "source": [
    "# Inference\n",
    "inference.stochastic_variational_inference(model,\n",
    "                                           number_iterations=500,\n",
    "                                           number_samples=50,\n",
    "                                           optimizer=\"Adam\",\n",
    "                                           lr=0.01)\n",
    "loss_list = model.diagnostics[\"loss curve\"]"
   ]
  },
  {
   "cell_type": "markdown",
   "metadata": {},
   "source": [
    "Et voilà, the approximate posterior distribution is trained. The number_samples parameter specify the minibatch size of the parameters sampled from the variational distribution. You need to know something about stochastic variational inference for fully getting this point and I will cover it more properly in more advanced tutorials.\n",
    "\n",
    "Let's now plot the loss to be sure that everything went fine."
   ]
  },
  {
   "cell_type": "code",
   "execution_count": 19,
   "metadata": {},
   "outputs": [
    {
     "data": {
      "text/plain": [
       "[<matplotlib.lines.Line2D at 0x7f13a631cf98>]"
      ]
     },
     "execution_count": 19,
     "metadata": {},
     "output_type": "execute_result"
    },
    {
     "data": {
      "image/png": "[encoded data removed]",
      "text/plain": [
       "<Figure size 432x288 with 1 Axes>"
      ]
     },
     "metadata": {
      "needs_background": "light"
     },
     "output_type": "display_data"
    }
   ],
   "source": [
    "plt.plot(loss_list)"
   ]
  },
  {
   "cell_type": "markdown",
   "metadata": {},
   "source": [
    "It looks ok! note however that this optimization can potentially get stuck in local minima like any other gradient based optimization so be careful. Stochastic variational inference is a powerful general purpose inference method but it does not do magic.\n",
    "\n",
    "Let's now get some samples from the posterior:"
   ]
  },
  {
   "cell_type": "code",
   "execution_count": 20,
   "metadata": {},
   "outputs": [
    {
     "data": {
      "text/html": [
       "<div>\n",
       "<style scoped>\n",
       "    .dataframe tbody tr th:only-of-type {\n",
       "        vertical-align: middle;\n",
       "    }\n",
       "\n",
       "    .dataframe tbody tr th {\n",
       "        vertical-align: top;\n",
       "    }\n",
       "\n",
       "    .dataframe thead th {\n",
       "        text-align: right;\n",
       "    }\n",
       "</style>\n",
       "<table border=\"1\" class=\"dataframe\">\n",
       "  <thead>\n",
       "    <tr style=\"text-align: right;\">\n",
       "      <th></th>\n",
       "      <th>nu</th>\n",
       "      <th>mu</th>\n",
       "      <th>x</th>\n",
       "      <th>mu_scale</th>\n",
       "      <th>mu_loc</th>\n",
       "      <th>nu_scale</th>\n",
       "      <th>nu_loc</th>\n",
       "    </tr>\n",
       "  </thead>\n",
       "  <tbody>\n",
       "    <tr>\n",
       "      <th>count</th>\n",
       "      <td>1000.000000</td>\n",
       "      <td>1000.000000</td>\n",
       "      <td>1000.000000</td>\n",
       "      <td>1000.000000</td>\n",
       "      <td>1000.000000</td>\n",
       "      <td>1000.000000</td>\n",
       "      <td>1000.00000</td>\n",
       "    </tr>\n",
       "    <tr>\n",
       "      <th>mean</th>\n",
       "      <td>0.859199</td>\n",
       "      <td>-1.353872</td>\n",
       "      <td>-0.948138</td>\n",
       "      <td>-0.928095</td>\n",
       "      <td>-1.339866</td>\n",
       "      <td>-0.423467</td>\n",
       "      <td>-0.27218</td>\n",
       "    </tr>\n",
       "    <tr>\n",
       "      <th>std</th>\n",
       "      <td>0.481838</td>\n",
       "      <td>0.325830</td>\n",
       "      <td>1.013025</td>\n",
       "      <td>0.000000</td>\n",
       "      <td>0.000000</td>\n",
       "      <td>0.000000</td>\n",
       "      <td>0.00000</td>\n",
       "    </tr>\n",
       "    <tr>\n",
       "      <th>min</th>\n",
       "      <td>0.149483</td>\n",
       "      <td>-2.396008</td>\n",
       "      <td>-11.377235</td>\n",
       "      <td>-0.928095</td>\n",
       "      <td>-1.339866</td>\n",
       "      <td>-0.423467</td>\n",
       "      <td>-0.27218</td>\n",
       "    </tr>\n",
       "    <tr>\n",
       "      <th>25%</th>\n",
       "      <td>0.518648</td>\n",
       "      <td>-1.570282</td>\n",
       "      <td>-1.377543</td>\n",
       "      <td>-0.928095</td>\n",
       "      <td>-1.339866</td>\n",
       "      <td>-0.423467</td>\n",
       "      <td>-0.27218</td>\n",
       "    </tr>\n",
       "    <tr>\n",
       "      <th>50%</th>\n",
       "      <td>0.753843</td>\n",
       "      <td>-1.362739</td>\n",
       "      <td>-0.947235</td>\n",
       "      <td>-0.928095</td>\n",
       "      <td>-1.339866</td>\n",
       "      <td>-0.423467</td>\n",
       "      <td>-0.27218</td>\n",
       "    </tr>\n",
       "    <tr>\n",
       "      <th>75%</th>\n",
       "      <td>1.066491</td>\n",
       "      <td>-1.129731</td>\n",
       "      <td>-0.479711</td>\n",
       "      <td>-0.928095</td>\n",
       "      <td>-1.339866</td>\n",
       "      <td>-0.423467</td>\n",
       "      <td>-0.27218</td>\n",
       "    </tr>\n",
       "    <tr>\n",
       "      <th>max</th>\n",
       "      <td>4.482189</td>\n",
       "      <td>-0.419369</td>\n",
       "      <td>3.655487</td>\n",
       "      <td>-0.928095</td>\n",
       "      <td>-1.339866</td>\n",
       "      <td>-0.423467</td>\n",
       "      <td>-0.27218</td>\n",
       "    </tr>\n",
       "  </tbody>\n",
       "</table>\n",
       "</div>"
      ],
      "text/plain": [
       "                nu           mu            x     mu_scale       mu_loc  \\\n",
       "count  1000.000000  1000.000000  1000.000000  1000.000000  1000.000000   \n",
       "mean      0.859199    -1.353872    -0.948138    -0.928095    -1.339866   \n",
       "std       0.481838     0.325830     1.013025     0.000000     0.000000   \n",
       "min       0.149483    -2.396008   -11.377235    -0.928095    -1.339866   \n",
       "25%       0.518648    -1.570282    -1.377543    -0.928095    -1.339866   \n",
       "50%       0.753843    -1.362739    -0.947235    -0.928095    -1.339866   \n",
       "75%       1.066491    -1.129731    -0.479711    -0.928095    -1.339866   \n",
       "max       4.482189    -0.419369     3.655487    -0.928095    -1.339866   \n",
       "\n",
       "          nu_scale      nu_loc  \n",
       "count  1000.000000  1000.00000  \n",
       "mean     -0.423467    -0.27218  \n",
       "std       0.000000     0.00000  \n",
       "min      -0.423467    -0.27218  \n",
       "25%      -0.423467    -0.27218  \n",
       "50%      -0.423467    -0.27218  \n",
       "75%      -0.423467    -0.27218  \n",
       "max      -0.423467    -0.27218  "
      ]
     },
     "execution_count": 20,
     "metadata": {},
     "output_type": "execute_result"
    }
   ],
   "source": [
    "# print posterior sample\n",
    "post_sample = model.get_posterior_sample(1000)\n",
    "post_sample.describe()"
   ]
  },
  {
   "cell_type": "markdown",
   "metadata": {},
   "source": [
    "The method describe gets some important descriptive statistics from the samples. It is just a native Pandas method and we can use it because the output of Brancher are Pandas dataframes. It is nice to work on the shoulders of other people isn't it?\n",
    " [Pandas](https://pandas.pydata.org/pandas-docs/stable/) has plenty of methods for working with data and I recommend you to use them in your Brancher pipelines! I suggest you to get started with Pandas with [this tutorial] (https://pandas.pydata.org/pandas-docs/stable/10min.html).\n",
    "\n",
    "Let's now plot the posterior distributions together with the ground truth values:"
   ]
  },
  {
   "cell_type": "code",
   "execution_count": 21,
   "metadata": {},
   "outputs": [
    {
     "data": {
      "text/plain": [
       "<matplotlib.lines.Line2D at 0x7f13a62e96d8>"
      ]
     },
     "execution_count": 21,
     "metadata": {},
     "output_type": "execute_result"
    },
    {
     "data": {
      "image/png": "[encoded data removed]",
      "text/plain": [
       "<Figure size 432x288 with 1 Axes>"
      ]
     },
     "metadata": {
      "needs_background": "light"
     },
     "output_type": "display_data"
    }
   ],
   "source": [
    "g = plt.hist(post_sample[\"mu\"], 50)\n",
    "plt.axvline(x=mu_real, color=\"k\", lw=2)"
   ]
  },
  {
   "cell_type": "code",
   "execution_count": 22,
   "metadata": {},
   "outputs": [
    {
     "data": {
      "text/plain": [
       "<matplotlib.lines.Line2D at 0x7f13a61f8240>"
      ]
     },
     "execution_count": 22,
     "metadata": {},
     "output_type": "execute_result"
    },
    {
     "data": {
      "image/png": "[encoded data removed]",
      "text/plain": [
       "<Figure size 432x288 with 1 Axes>"
      ]
     },
     "metadata": {
      "needs_background": "light"
     },
     "output_type": "display_data"
    }
   ],
   "source": [
    "g = plt.hist(post_sample[\"nu\"], 50)\n",
    "plt.axvline(x=nu_real, color=\"k\", lw=2)"
   ]
  },
  {
   "cell_type": "markdown",
   "metadata": {},
   "source": [
    "We can visualize the posterior distribution using a Brancher plotting function. This function relies on [Seaborn](https://seaborn.pydata.org/), a very handy visualization library that works very well in combination with Pandas."
   ]
  },
  {
   "cell_type": "code",
   "execution_count": 23,
   "metadata": {},
   "outputs": [
    {
     "ename": "ModuleNotFoundError",
     "evalue": "No module named 'seaborn'",
     "output_type": "error",
     "traceback": [
      "\u001b[0;31m---------------------------------------------------------------------------\u001b[0m",
      "\u001b[0;31mModuleNotFoundError\u001b[0m                       Traceback (most recent call last)",
      "\u001b[0;32m<ipython-input-23-dfddd31972e0>\u001b[0m in \u001b[0;36m<module>\u001b[0;34m\u001b[0m\n\u001b[0;32m----> 1\u001b[0;31m \u001b[0;32mfrom\u001b[0m \u001b[0mbrancher\u001b[0m\u001b[0;34m.\u001b[0m\u001b[0mvisualizations\u001b[0m \u001b[0;32mimport\u001b[0m \u001b[0mplot_posterior\u001b[0m\u001b[0;34m\u001b[0m\u001b[0;34m\u001b[0m\u001b[0m\n\u001b[0m\u001b[1;32m      2\u001b[0m \u001b[0;34m\u001b[0m\u001b[0m\n\u001b[1;32m      3\u001b[0m \u001b[0mplot_posterior\u001b[0m\u001b[0;34m(\u001b[0m\u001b[0mmodel\u001b[0m\u001b[0;34m,\u001b[0m \u001b[0mvariables\u001b[0m\u001b[0;34m=\u001b[0m\u001b[0;34m[\u001b[0m\u001b[0;34m\"mu\"\u001b[0m\u001b[0;34m,\u001b[0m \u001b[0;34m\"nu\"\u001b[0m\u001b[0;34m,\u001b[0m \u001b[0;34m\"x\"\u001b[0m\u001b[0;34m]\u001b[0m\u001b[0;34m)\u001b[0m\u001b[0;34m\u001b[0m\u001b[0;34m\u001b[0m\u001b[0m\n",
      "\u001b[0;32m~/GitRepositories/PyTorch/Brancher/brancher/visualizations.py\u001b[0m in \u001b[0;36m<module>\u001b[0;34m\u001b[0m\n\u001b[1;32m      1\u001b[0m \u001b[0;32mimport\u001b[0m \u001b[0mwarnings\u001b[0m\u001b[0;34m\u001b[0m\u001b[0;34m\u001b[0m\u001b[0m\n\u001b[1;32m      2\u001b[0m \u001b[0;34m\u001b[0m\u001b[0m\n\u001b[0;32m----> 3\u001b[0;31m \u001b[0;32mimport\u001b[0m \u001b[0mseaborn\u001b[0m \u001b[0;32mas\u001b[0m \u001b[0msns\u001b[0m\u001b[0;34m\u001b[0m\u001b[0;34m\u001b[0m\u001b[0m\n\u001b[0m\u001b[1;32m      4\u001b[0m \u001b[0;32mimport\u001b[0m \u001b[0mpandas\u001b[0m \u001b[0;32mas\u001b[0m \u001b[0mpd\u001b[0m\u001b[0;34m\u001b[0m\u001b[0;34m\u001b[0m\u001b[0m\n\u001b[1;32m      5\u001b[0m \u001b[0;32mimport\u001b[0m \u001b[0mnumpy\u001b[0m \u001b[0;32mas\u001b[0m \u001b[0mnp\u001b[0m\u001b[0;34m\u001b[0m\u001b[0;34m\u001b[0m\u001b[0m\n",
      "\u001b[0;31mModuleNotFoundError\u001b[0m: No module named 'seaborn'"
     ]
    }
   ],
   "source": [
    "from brancher.visualizations import plot_posterior\n",
    "\n",
    "plot_posterior(model, variables=[\"mu\", \"nu\", \"x\"])"
   ]
  },
  {
   "cell_type": "markdown",
   "metadata": {},
   "source": [
    "It looks cool doesn't it? "
   ]
  },
  {
   "cell_type": "code",
   "execution_count": null,
   "metadata": {},
   "outputs": [],
   "source": []
  }
 ],
 "metadata": {
  "kernelspec": {
   "display_name": "Pytorch",
   "language": "python",
   "name": "pytorch"
  },
  "language_info": {
   "codemirror_mode": {
    "name": "ipython",
    "version": 3
   },
   "file_extension": ".py",
   "mimetype": "text/x-python",
   "name": "python",
   "nbconvert_exporter": "python",
   "pygments_lexer": "ipython3",
   "version": "3.7.2"
  }
 },
 "nbformat": 4,
 "nbformat_minor": 1
}
